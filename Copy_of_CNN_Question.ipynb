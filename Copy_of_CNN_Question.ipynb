{
  "nbformat": 4,
  "nbformat_minor": 0,
  "metadata": {
    "colab": {
      "provenance": [],
      "collapsed_sections": [],
      "include_colab_link": true
    },
    "kernelspec": {
      "name": "python3",
      "display_name": "Python 3"
    },
    "language_info": {
      "name": "python"
    },
    "accelerator": "GPU",
    "gpuClass": "standard"
  },
  "cells": [
    {
      "cell_type": "markdown",
      "metadata": {
        "id": "view-in-github",
        "colab_type": "text"
      },
      "source": [
        "<a href=\"https://colab.research.google.com/github/kiddhcx/CMPUT-566/blob/main/Copy_of_CNN_Question.ipynb\" target=\"_parent\"><img src=\"https://colab.research.google.com/assets/colab-badge.svg\" alt=\"Open In Colab\"/></a>"
      ]
    },
    {
      "cell_type": "markdown",
      "source": [
        "# **CMPUT 466/566 - CNN [ 25 marks]**\n"
      ],
      "metadata": {
        "id": "L3pt22Ys9HUx"
      }
    },
    {
      "cell_type": "markdown",
      "source": [
        "### **RESOURCES**\n",
        "This assignment requires some basic knowledge of Pytorch which can be found in the following links:\n",
        "\n",
        "\n",
        "1.   [Tensors](https://pytorch.org/tutorials/beginner/basics/tensorqs_tutorial.html)\n",
        "2.   [Build the Neural Network](https://pytorch.org/tutorials/beginner/basics/buildmodel_tutorial.html)\n",
        "3. [Optimizing Model Parameters](https://pytorch.org/tutorials/beginner/basics/optimization_tutorial.html)\n",
        "4. [torch.nn](https://pytorch.org/docs/stable/nn.html)\n",
        "5. [ResNet](https://pytorch.org/hub/pytorch_vision_resnet/)\n",
        "\n",
        "\n"
      ],
      "metadata": {
        "id": "a2RhVkgq9gfH"
      }
    },
    {
      "cell_type": "markdown",
      "source": [
        "### **DATASET**\n",
        "The dataset is from [Kaggle](https://www.kaggle.com/datasets/die9origephit/children-vs-adults-images) and has been modified for some questions. The shared ***'balanced_data'*** folder contains the balanced dataset and ***'imbalanced_data'*** contains its modified version for Part IV with class imbalance. \n",
        "\n",
        "The dataset can be found [here](https://drive.google.com/drive/folders/1WMYnKezCICtLNwnp9-eeK0220X6Hjlfm?usp=sharing) \n",
        "\n",
        "Load the data on Google colab from Google drive:\n",
        "1. Click on the Google Drive link of the **datasets** folder (make sure you login with your ualberta.ca email address)\n",
        "2. Click on the drop down next to the name of the folder and select **Add Shortcut to Drive**\n",
        "\n",
        "<center><img src='https://drive.google.com/uc?id=155oG91lcrqIxLQ1K3XJUzBLhrcOMmkqn' width=\"300\" \n",
        "     height=\"400\" ></center>\n",
        "\n",
        "4. Come back to the **copy of this colab notebook** and mount the drive by running the cell below\n"
      ],
      "metadata": {
        "id": "dusXOkvGylOA"
      }
    },
    {
      "cell_type": "code",
      "source": [
        "from google.colab import drive\n",
        "#make sure you give the necessary authorization for colab to access your Google Drive\n",
        "drive.mount('/content/drive')"
      ],
      "metadata": {
        "id": "LfDuqGIqrTng",
        "colab": {
          "base_uri": "https://localhost:8080/"
        },
        "outputId": "3b48666a-6719-424c-e164-ba4cb48591ed"
      },
      "execution_count": null,
      "outputs": [
        {
          "output_type": "stream",
          "name": "stdout",
          "text": [
            "Mounted at /content/drive\n"
          ]
        }
      ]
    },
    {
      "cell_type": "markdown",
      "source": [
        "5. Click Connect to **Google Drive**\n",
        "\n",
        "\n",
        "<center><img src='https://drive.google.com/uc?id=1vVU4anE7Wo_BRBDrW_dZ8_ck-BbMmbLR' width=\"800\" \n",
        "     height=\"150\" ></center>\n",
        "\n",
        "\n",
        "6. **Choose your ualberta.ca account**\n",
        "\n",
        "<center><img src='https://drive.google.com/uc?id=1GkRAHOxpgAe4_Dsb0MY1ZdcR5RfyWxne' width=\"300\" \n",
        "     height=\"400\" align='middle' ></center>\n",
        "\n",
        "7. **Grant permission**\n",
        "\n",
        "\n",
        "<center><img src='https://drive.google.com/uc?id=17qYsveplhjnynP-tmPQnhZSEmv_x3oa7' width=\"400\" \n",
        "     height=\"700\" align='middle' ></center>\n"
      ],
      "metadata": {
        "id": "S6Sucfgfuond"
      }
    },
    {
      "cell_type": "markdown",
      "source": [
        "8. If you want to access a folder called **'datasets'**, you can do this with:\n",
        "\n",
        "\n",
        "\n",
        "```\n",
        "dataset_dir = '/content/drive/MyDrive/datasets'\n",
        "```\n",
        "\n",
        "\n",
        "\n"
      ],
      "metadata": {
        "id": "s0zsN1dcsKep"
      }
    },
    {
      "cell_type": "code",
      "source": [
        "'''\n",
        "Follow the above steps and include the paths for training and test datasets\n",
        "'''\n",
        "main_path = '/content/drive/MyDrive/datasets/balanced_data/train' #ENTER PATH HERE\n",
        "test_path ='/content/drive/MyDrive/datasets/balanced_data/test' #ENTER PATH HERE"
      ],
      "metadata": {
        "id": "b-a0Rd15sbz5"
      },
      "execution_count": null,
      "outputs": []
    },
    {
      "cell_type": "markdown",
      "source": [
        "### **Part I:  Activation functions for CNN [ 6 marks ]**"
      ],
      "metadata": {
        "id": "-kXSzowaF8NG"
      }
    },
    {
      "cell_type": "code",
      "source": [
        "#Loading necessary libraries\n",
        "import numpy as np\n",
        "import pandas as pd \n",
        "import skimage.io\n",
        "from skimage import color\n",
        "from skimage import io\n",
        "import glob\n",
        "import cv2\n",
        "from scipy.ndimage.interpolation import map_coordinates\n",
        "from scipy.ndimage.filters import gaussian_filter\n",
        "import matplotlib.pyplot as plt\n",
        "from torch.nn.modules.loss import BCEWithLogitsLoss\n",
        "from torch.optim import lr_scheduler, Adam, SGD\n",
        "import torch\n",
        "import torchvision\n",
        "from torch.utils.data import DataLoader\n",
        "from torchvision import datasets, transforms\n",
        "import torch.nn as nn\n",
        "import torch.utils.data as data\n",
        "import numpy as np\n",
        "import os\n",
        "import glob\n",
        "import time\n",
        "from sklearn.metrics import balanced_accuracy_score\n",
        "from torch.autograd import Variable\n",
        "from torch.nn import Linear, CrossEntropyLoss, Sequential, Conv2d, MaxPool2d, Module, Softmax, BatchNorm2d, Dropout\n",
        "from torch.nn.modules.conv import ConvTranspose2d, Conv2d\n",
        "from google.colab.patches import cv2_imshow\n",
        "from sklearn.metrics import accuracy_score\n",
        "from sklearn.metrics import classification_report\n",
        "from tqdm import tqdm\n",
        "from torchvision import models\n",
        "'''\n",
        "Import any necessary libraries here to keep your code organized\n",
        "'''\n",
        "#import <some_library> \n",
        "#from <something> import <something>"
      ],
      "metadata": {
        "id": "mhrQJoorGHml",
        "colab": {
          "base_uri": "https://localhost:8080/",
          "height": 36
        },
        "outputId": "f58e0a5c-6b7a-4921-a4c7-c57f0f0fdf27"
      },
      "execution_count": null,
      "outputs": [
        {
          "output_type": "execute_result",
          "data": {
            "text/plain": [
              "'\\nImport any necessary libraries here to keep your code organized\\n'"
            ],
            "application/vnd.google.colaboratory.intrinsic+json": {
              "type": "string"
            }
          },
          "metadata": {},
          "execution_count": 3
        }
      ]
    },
    {
      "cell_type": "code",
      "source": [
        "'''\n",
        "DO NOT ALTER THE FOLLOWING CODE\n",
        "'''\n",
        "my_transforms = transforms.Compose([transforms.Resize((224,224)),   transforms.ToTensor(), transforms.Normalize((0.5, 0.5, 0.5), (0.5, 0.5, 0.5)),])\n",
        "BATCH_SIZE = 16\n",
        "IMAGE_SIZE = 32\n",
        "NUM_CHANNELS = 3\n",
        "n_epochs = 50 # the cnn will be trained for 50 epochs\n",
        "dataset = datasets.ImageFolder(root=main_path, transform=my_transforms)\n",
        "dataset_size = dataset.__len__() #compute the length of the training dataset\n",
        "train_count = int(dataset_size * 0.8) #divide the training dataset to training and validation splits\n",
        "val_count = dataset_size - train_count # keep the training proportion to 1 if no validation is required\n",
        "train_dataset, valid_dataset = data.random_split(dataset, [train_count, val_count]) #perform a random split on the dataset based on the train and validation proportion\n",
        "y_train_indices = train_dataset.indices\n",
        "y_train = [dataset.targets[i] for i in y_train_indices] #assign the labels or target variables to y_train (classes)\n",
        "test_data = datasets.ImageFolder(test_path, transform=my_transforms)\n",
        "'''\n",
        "Following train, validation and test dataloaders will also be used in Part III: Resnets\n",
        "'''\n",
        "train_dataloader = DataLoader(train_dataset, batch_size=BATCH_SIZE, num_workers=2)\n",
        "valid_dataloader = DataLoader(valid_dataset, batch_size=BATCH_SIZE, num_workers=2)\n",
        "test_dataloader = torch.utils.data.DataLoader(test_data, shuffle = True, batch_size=BATCH_SIZE)\n",
        "device = torch.device('cuda:0' if torch.cuda.is_available() else 'cpu') #check for gpu\n",
        "print('Using ',device,'for model training') #print the device status"
      ],
      "metadata": {
        "id": "K-Mb5udQG9c2",
        "colab": {
          "base_uri": "https://localhost:8080/"
        },
        "outputId": "b9230563-c681-4bc2-a787-b7c143deee79"
      },
      "execution_count": null,
      "outputs": [
        {
          "output_type": "stream",
          "name": "stdout",
          "text": [
            "Using  cuda:0 for model training\n"
          ]
        }
      ]
    },
    {
      "cell_type": "code",
      "source": [
        "#Visualize some training images\n",
        "'''\n",
        "DO NOT ALTER THE FOLLOWING CODE\n",
        "'''\n",
        "real_batch = next(iter(train_dataloader))\n",
        "plt.figure(figsize=(8,8))\n",
        "plt.axis(\"off\")\n",
        "plt.title(\"Training Images\")\n",
        "plt.imshow(np.transpose(torchvision.utils.make_grid(real_batch[0].to(device)[:64], padding=2, normalize=True).cpu(),(1,2,0)))\n",
        "plt.show()\n",
        "plt.imshow(real_batch[0][5].permute(1,2,0), vmin=0, vmax=255)\n",
        "plt.show()\n",
        "print(f\"Label: {real_batch[1][5]}\")"
      ],
      "metadata": {
        "id": "0iBFwMMwHzh1",
        "colab": {
          "base_uri": "https://localhost:8080/",
          "height": 446
        },
        "outputId": "349b441d-5f43-45ce-db65-6e7d537dd491"
      },
      "execution_count": null,
      "outputs": [
        {
          "output_type": "display_data",
          "data": {
            "text/plain": [
              "<Figure size 576x576 with 1 Axes>"
            ],
            "image/png": "[encoded data removed]"
          },
          "metadata": {
            "needs_background": "light"
          }
        },
        {
          "output_type": "stream",
          "name": "stderr",
          "text": [
            "WARNING:matplotlib.image:Clipping input data to the valid range for imshow with RGB data ([0..1] for floats or [0..255] for integers).\n"
          ]
        },
        {
          "output_type": "display_data",
          "data": {
            "text/plain": [
              "<Figure size 432x288 with 1 Axes>"
            ],
            "image/png": "[encoded data removed]"
          },
          "metadata": {
            "needs_background": "light"
          }
        },
        {
          "output_type": "stream",
          "name": "stdout",
          "text": [
            "Label: 0\n"
          ]
        }
      ]
    },
    {
      "cell_type": "code",
      "source": [
        "'''\n",
        "DO NOT ALTER THE FOLLOWING CODE\n",
        "'''\n",
        "def make_train_step(model, optimizer, loss_fn):\n",
        "  '''\n",
        "  INPUT: model, optimizer, loss function\n",
        "  OUTPUT: train step\n",
        "  '''\n",
        "  def train_step(x,y):\n",
        "    '''\n",
        "    This function is used to train the model and update the model parameters. Do not change this function\n",
        "    '''\n",
        "    #make prediction\n",
        "    yhat = model(x)\n",
        "    #enter train mode\n",
        "    model.train()\n",
        "    #compute loss\n",
        "    loss = loss_fn(yhat,y)\n",
        "    loss.backward()\n",
        "    optimizer.step()\n",
        "    optimizer.zero_grad()\n",
        "    return loss\n",
        "  return train_step"
      ],
      "metadata": {
        "id": "N3KIX8hgH7US"
      },
      "execution_count": null,
      "outputs": []
    },
    {
      "cell_type": "code",
      "source": [
        "'''\n",
        "DO NOT ALTER THE FOLLOWING CODE\n",
        "'''\n",
        "def train_model(model,n_epochs, loss_fn, train_step):\n",
        "  '''\n",
        "  This is the main function which is used to train the model, update weights, calculate loss and save the best model\n",
        "  '''\n",
        "  train_losses = []\n",
        "  val_losses = []\n",
        "  epoch_train_losses = []\n",
        "  epoch_val_losses = []\n",
        "  for epoch in range(n_epochs):\n",
        "    epoch_loss = 0\n",
        "    for i ,data in tqdm(enumerate(train_dataloader), total = len(train_dataloader)): #iterate ove batches\n",
        "      x_batch , y_batch = data\n",
        "      x_batch = x_batch.to('cuda') #move to gpu\n",
        "      y_batch = y_batch.unsqueeze(1).float() #convert target to same nn output shape\n",
        "      y_batch = y_batch.to('cuda') #move to gpu\n",
        "      loss = train_step(x_batch, y_batch)\n",
        "      epoch_loss += loss/len(train_dataloader) \n",
        "      train_losses.append(loss.cpu().detach().numpy())\n",
        "    epoch_train_losses.append(epoch_loss)\n",
        "    print('\\nEpoch : {}, train loss : {}'.format(epoch+1,epoch_loss))\n",
        "    #validation does not require gradient\n",
        "    with torch.no_grad():\n",
        "      cum_loss = 0\n",
        "      for x_batch, y_batch in valid_dataloader:\n",
        "        x_batch = x_batch.to('cuda')\n",
        "        y_batch = y_batch.unsqueeze(1).float() #convert target to same nn output shape\n",
        "        y_batch = y_batch.to('cuda')\n",
        "        model.eval()#model to eval mode\n",
        "        yhat = model(x_batch)\n",
        "        val_loss = loss_fn(yhat,y_batch)\n",
        "        cum_loss += loss/len(valid_dataloader)\n",
        "        val_losses.append(val_loss.item())\n",
        "      epoch_val_losses.append(cum_loss)\n",
        "      print('Epoch : {}, val loss : {}'.format(epoch+1,cum_loss))   \n",
        "      best_loss = min(epoch_val_losses)  \n",
        "      #save best model\n",
        "      if cum_loss <= best_loss:\n",
        "        best_model_wts = model.state_dict()  \n",
        "  #load best model\n",
        "  model.load_state_dict(best_model_wts)\n",
        "  return model, train_losses,val_losses\n",
        "\n",
        "def plot_losses(train_losses,val_losses):\n",
        "  '''\n",
        "  This function can be used to plot the training and validation losses. You can use this \n",
        "  function to analyse the losses and judge if model was overfitting or if model shows some \n",
        "  unusual behaviour. \n",
        "  '''\n",
        "  plt.plot(train_losses, label='Training loss')\n",
        "  plt.plot(val_losses, label='Validation loss')\n",
        "  plt.legend()\n",
        "  plt.show()\n",
        "\n",
        "def inference(model,test_data):\n",
        "  '''\n",
        "  As we are doing binary classification, this function uses sigmoid to change class probabilities \n",
        "  to either 0 or 1 class. \n",
        "  '''\n",
        "  y_pred = []\n",
        "  y_true = []\n",
        "  for idx in range(1, len(test_data)):\n",
        "    y_true.append( test_data[idx][1])\n",
        "    sample = torch.unsqueeze(test_data[idx][0], dim=0).to('cuda')\n",
        "    if torch.sigmoid(model(sample)) < 0.5:\n",
        "      y_pred.append(0)\n",
        "    else:\n",
        "      y_pred.append(1)\n",
        "  return y_pred, y_true\n",
        "\n",
        "def calc_loss(model, n_epochs):\n",
        "  '''\n",
        "  This function drives the training function, assigns the loss fuction and sets the optimiizer.\n",
        "  '''\n",
        "  loss_fn = BCEWithLogitsLoss() \n",
        "  optimizer = torch.optim.Adam(model.parameters()) \n",
        "  train_step = make_train_step(model, optimizer, loss_fn)\n",
        "  trained_model, train_losses, val_losses = train_model(model,n_epochs, loss_fn, train_step)\n",
        "  return trained_model\n",
        "\n",
        "def calc_accuracy(trained_model):\n",
        "  '''\n",
        "  This function is used for returning the calculated accuracies.\n",
        "  '''\n",
        "  y_pred, y_true = inference(trained_model,test_data)\n",
        "  target_names = ['Adults', 'Kids']\n",
        "  print('the accuracy is',accuracy_score(y_true, y_pred))\n",
        "  print(classification_report(y_true, y_pred, target_names=target_names))\n",
        "  print('the balanced accuracy is',balanced_accuracy_score(y_true, y_pred))\n",
        "  return accuracy_score(y_true, y_pred)"
      ],
      "metadata": {
        "id": "xsI661eDH_qw"
      },
      "execution_count": null,
      "outputs": []
    },
    {
      "cell_type": "markdown",
      "source": [
        "#### **Consider the following code snippet for a Neural Network**\n",
        "\n",
        "This Network is a very simple Network for your reference to implement a Neural Network of any given architecture. \n",
        "\n",
        "\n",
        "```\n",
        "class Net(Module):   \n",
        "    \n",
        "    def __init__(self):\n",
        "        super(Net, self).__init__()\n",
        "        self.cnn_layers = Sequential(\n",
        "            # Defining a 2D convolution layer\n",
        "            Conv2d(NUM_CHANNELS, IMAGE_SIZE, kernel_size=3, stride=1, padding=1),\n",
        "            BatchNorm2d(IMAGE_SIZE),\n",
        "            MaxPool2d(kernel_size=2, stride=2),\n",
        "            # Defining another 2D convolution layer\n",
        "            Conv2d(32, 32, kernel_size=3, stride=1, padding=1),\n",
        "            BatchNorm2d(32),\n",
        "            MaxPool2d(kernel_size=2, stride=2),\n",
        "        )\n",
        "        self.linear_layers = Sequential(\n",
        "            Linear(100352, 1)\n",
        "        )\n",
        "    # Defining the forward pass    \n",
        "    def forward(self, x):\n",
        "        x = self.cnn_layers(x)\n",
        "        x = x.view(x.size(0), -1)\n",
        "        x = self.linear_layers(x)\n",
        "        return x\n",
        "\n",
        "# defining the model\n",
        "model = Net()\n",
        "# defining the optimizer\n",
        "optimizer = Adam(model.parameters(), lr=0.07)\n",
        "# defining the loss function\n",
        "criterion = CrossEntropyLoss()\n",
        "# checking if GPU is available\n",
        "if torch.cuda.is_available():\n",
        "    model = model.cuda()\n",
        "    criterion = criterion.cuda()\n",
        "    \n",
        "print(model)\n",
        "\n",
        "trained_model = calc_loss(model, n_epochs)\n",
        "calc_accuracy(trained_model)\n",
        "```\n",
        "\n"
      ],
      "metadata": {
        "id": "6YjKXEyOOuA8"
      }
    },
    {
      "cell_type": "markdown",
      "source": [
        "#### **(1) Build a CNN for the following Model Architecture [3 marks]**\n",
        "\n",
        "\n",
        "```\n",
        "Net(\n",
        "  (cnn_1): Sequential(\n",
        "    (0): Conv2d(3, 32, kernel_size=(3, 3), stride=(1, 1), padding=(1, 1))\n",
        "    (1): BatchNorm2d(32, eps=1e-05, momentum=0.1, affine=True, track_running_stats=True)\n",
        "    (2): MaxPool2d(kernel_size=2, stride=2, padding=0, dilation=1, ceil_mode=False)\n",
        "  )\n",
        "  (cnn_2): Sequential(\n",
        "    (0): Conv2d(32, 256, kernel_size=(3, 3), stride=(1, 1), padding=(1, 1))\n",
        "    (1): BatchNorm2d(256, eps=1e-05, momentum=0.1, affine=True, track_running_stats=True)\n",
        "    (2): MaxPool2d(kernel_size=2, stride=2, padding=0, dilation=1, ceil_mode=False)\n",
        "  )\n",
        "  (cnn_3): Sequential(\n",
        "    (0): Conv2d(256, 512, kernel_size=(3, 3), stride=(1, 1), padding=(1, 1))\n",
        "    (1): BatchNorm2d(512, eps=1e-05, momentum=0.1, affine=True, track_running_stats=True)\n",
        "  )\n",
        "  (cnn_4): Sequential(\n",
        "    (0): Conv2d(512, 256, kernel_size=(3, 3), stride=(1, 1), padding=(1, 1))\n",
        "    (1): BatchNorm2d(256, eps=1e-05, momentum=0.1, affine=True, track_running_stats=True)\n",
        "  )\n",
        "  (cnn_5): Sequential(\n",
        "    (0): Conv2d(256, 128, kernel_size=(3, 3), stride=(1, 1), padding=(1, 1))\n",
        "    (1): BatchNorm2d(128, eps=1e-05, momentum=0.1, affine=True, track_running_stats=True)\n",
        "  )\n",
        "  (cnn_6): Sequential(\n",
        "    (0): Conv2d(128, 64, kernel_size=(3, 3), stride=(1, 1), padding=(1, 1))\n",
        "    (1): BatchNorm2d(64, eps=1e-05, momentum=0.1, affine=True, track_running_stats=True)\n",
        "    (2): MaxPool2d(kernel_size=2, stride=2, padding=0, dilation=1, ceil_mode=False)\n",
        "  )\n",
        "  (fully_1): Sequential(\n",
        "    (0): Dropout(p=0.5, inplace=False)\n",
        "    (1): Linear(in_features=50176, out_features=4096, bias=True)\n",
        "  )\n",
        "  (fully_2): Sequential(\n",
        "    (0): Dropout(p=0.5, inplace=False)\n",
        "    (1): Linear(in_features=4096, out_features=4096, bias=True)\n",
        "  )\n",
        "  (fully_3): Sequential(\n",
        "    (0): Dropout(p=0.5, inplace=False)\n",
        "    (1): Linear(in_features=4096, out_features=1000, bias=True)\n",
        "  )\n",
        "  (fully_4): Sequential(\n",
        "    (0): Linear(in_features=1000, out_features=1, bias=True)\n",
        "  )\n",
        ")\n",
        "```\n",
        "\n",
        "The codebase is as follows:\n"
      ],
      "metadata": {
        "id": "wHa5ZLE0P7lf"
      }
    },
    {
      "cell_type": "code",
      "source": [
        "from torch.nn.modules.conv import ConvTranspose2d, Conv2d\n",
        "class Net(Module):   \n",
        "    def __init__(self):\n",
        "        super(Net, self).__init__()\n",
        "        '''\n",
        "        Write the 6 CNNs and 4 fully connected CNNs here:\n",
        "        '''\n",
        "        self.cnn_layers = Sequential(\n",
        "            # Defining a 2D convolution layer\n",
        "            Conv2d(3, 32 , kernel_size=3, stride=1, padding=1),\n",
        "            BatchNorm2d(32),\n",
        "            MaxPool2d(kernel_size=2, stride=2),\n",
        "\n",
        "            Conv2d(32, 256, kernel_size=3, stride=1, padding=1),\n",
        "            BatchNorm2d(256),\n",
        "            MaxPool2d(kernel_size=2, stride=2),\n",
        "\n",
        "            Conv2d(256, 512, kernel_size=3, stride=1, padding=1),\n",
        "            BatchNorm2d(512),\n",
        "\n",
        "            Conv2d(512, 256, kernel_size=3, stride=1, padding=1),\n",
        "            BatchNorm2d(256),\n",
        "\n",
        "            Conv2d(256, 128, kernel_size=3, stride=1, padding=1),\n",
        "            BatchNorm2d(128),\n",
        "\n",
        "            Conv2d(128, 64, kernel_size=3, stride=1, padding=1),\n",
        "            BatchNorm2d(64),\n",
        "            MaxPool2d(kernel_size=2, stride=2)\n",
        "\n",
        "        )\n",
        "        self.linear_layers = Sequential(\n",
        "            Dropout(),\n",
        "            Linear(50176, 4096),\n",
        "\n",
        "            Dropout(),\n",
        "            Linear(4096, 4096),\n",
        "\n",
        "            Dropout(),\n",
        "            Linear(4096, 1000),\n",
        "\n",
        "            Dropout(),\n",
        "            Linear(1000, 1),\n",
        "\n",
        "        )\n",
        "    def forward(self, x):\n",
        "        '''\n",
        "        Define the forward pass\n",
        "        '''\n",
        "        #ENTER CODE HERE\n",
        "        x = self.cnn_layers(x)\n",
        "        x = x.view(x.size(0), -1)\n",
        "        x = self.linear_layers(x)\n",
        "        return x\n",
        "'''\n",
        "DO NOT ALTER THE FOLLOWING CODE\n",
        "'''\n",
        "model = Net()\n",
        "optimizer = Adam(model.parameters(), lr=0.07)\n",
        "criterion = CrossEntropyLoss()\n",
        "if torch.cuda.is_available():\n",
        "    model = model.cuda()\n",
        "    criterion = criterion.cuda()\n",
        "print(model)\n",
        "trained_model = calc_loss(model, n_epochs) #train the model\n",
        "calc_accuracy(trained_model) # report the accuracy "
      ],
      "metadata": {
        "id": "UdMfVn84Jgxe",
        "colab": {
          "base_uri": "https://localhost:8080/"
        },
        "outputId": "1f7ca4e6-4b14-4e13-ae29-7811703dda1a"
      },
      "execution_count": null,
      "outputs": [
        {
          "output_type": "stream",
          "name": "stdout",
          "text": [
            "Net(\n",
            "  (cnn_layers): Sequential(\n",
            "    (0): Conv2d(3, 32, kernel_size=(3, 3), stride=(1, 1), padding=(1, 1))\n",
            "    (1): BatchNorm2d(32, eps=1e-05, momentum=0.1, affine=True, track_running_stats=True)\n",
            "    (2): MaxPool2d(kernel_size=2, stride=2, padding=0, dilation=1, ceil_mode=False)\n",
            "    (3): Conv2d(32, 256, kernel_size=(3, 3), stride=(1, 1), padding=(1, 1))\n",
            "    (4): BatchNorm2d(256, eps=1e-05, momentum=0.1, affine=True, track_running_stats=True)\n",
            "    (5): MaxPool2d(kernel_size=2, stride=2, padding=0, dilation=1, ceil_mode=False)\n",
            "    (6): Conv2d(256, 512, kernel_size=(3, 3), stride=(1, 1), padding=(1, 1))\n",
            "    (7): BatchNorm2d(512, eps=1e-05, momentum=0.1, affine=True, track_running_stats=True)\n",
            "    (8): Conv2d(512, 256, kernel_size=(3, 3), stride=(1, 1), padding=(1, 1))\n",
            "    (9): BatchNorm2d(256, eps=1e-05, momentum=0.1, affine=True, track_running_stats=True)\n",
            "    (10): Conv2d(256, 128, kernel_size=(3, 3), stride=(1, 1), padding=(1, 1))\n",
            "    (11): BatchNorm2d(128, eps=1e-05, momentum=0.1, affine=True, track_running_stats=True)\n",
            "    (12): Conv2d(128, 64, kernel_size=(3, 3), stride=(1, 1), padding=(1, 1))\n",
            "    (13): BatchNorm2d(64, eps=1e-05, momentum=0.1, affine=True, track_running_stats=True)\n",
            "    (14): MaxPool2d(kernel_size=2, stride=2, padding=0, dilation=1, ceil_mode=False)\n",
            "  )\n",
            "  (linear_layers): Sequential(\n",
            "    (0): Dropout(p=0.5, inplace=False)\n",
            "    (1): Linear(in_features=50176, out_features=4096, bias=True)\n",
            "    (2): Dropout(p=0.5, inplace=False)\n",
            "    (3): Linear(in_features=4096, out_features=4096, bias=True)\n",
            "    (4): Dropout(p=0.5, inplace=False)\n",
            "    (5): Linear(in_features=4096, out_features=1000, bias=True)\n",
            "    (6): Dropout(p=0.5, inplace=False)\n",
            "    (7): Linear(in_features=1000, out_features=1, bias=True)\n",
            "  )\n",
            ")\n"
          ]
        },
        {
          "output_type": "stream",
          "name": "stderr",
          "text": [
            "100%|██████████| 34/34 [02:01<00:00,  3.57s/it]"
          ]
        },
        {
          "output_type": "stream",
          "name": "stdout",
          "text": [
            "\n",
            "Epoch : 1, train loss : 147.4390411376953\n"
          ]
        },
        {
          "output_type": "stream",
          "name": "stderr",
          "text": [
            "\n"
          ]
        },
        {
          "output_type": "stream",
          "name": "stdout",
          "text": [
            "Epoch : 1, val loss : 105.560546875\n"
          ]
        },
        {
          "output_type": "stream",
          "name": "stderr",
          "text": [
            "100%|██████████| 34/34 [00:08<00:00,  3.91it/s]"
          ]
        },
        {
          "output_type": "stream",
          "name": "stdout",
          "text": [
            "\n",
            "Epoch : 2, train loss : 74.16512298583984\n"
          ]
        },
        {
          "output_type": "stream",
          "name": "stderr",
          "text": [
            "\n"
          ]
        },
        {
          "output_type": "stream",
          "name": "stdout",
          "text": [
            "Epoch : 2, val loss : 49.60282897949219\n"
          ]
        },
        {
          "output_type": "stream",
          "name": "stderr",
          "text": [
            "100%|██████████| 34/34 [00:08<00:00,  3.97it/s]"
          ]
        },
        {
          "output_type": "stream",
          "name": "stdout",
          "text": [
            "\n",
            "Epoch : 3, train loss : 77.32146453857422\n"
          ]
        },
        {
          "output_type": "stream",
          "name": "stderr",
          "text": [
            "\n"
          ]
        },
        {
          "output_type": "stream",
          "name": "stdout",
          "text": [
            "Epoch : 3, val loss : 9.045659065246582\n"
          ]
        },
        {
          "output_type": "stream",
          "name": "stderr",
          "text": [
            "100%|██████████| 34/34 [00:08<00:00,  3.92it/s]"
          ]
        },
        {
          "output_type": "stream",
          "name": "stdout",
          "text": [
            "\n",
            "Epoch : 4, train loss : 29.212818145751953\n"
          ]
        },
        {
          "output_type": "stream",
          "name": "stderr",
          "text": [
            "\n"
          ]
        },
        {
          "output_type": "stream",
          "name": "stdout",
          "text": [
            "Epoch : 4, val loss : 34.34587478637695\n"
          ]
        },
        {
          "output_type": "stream",
          "name": "stderr",
          "text": [
            "100%|██████████| 34/34 [00:09<00:00,  3.72it/s]"
          ]
        },
        {
          "output_type": "stream",
          "name": "stdout",
          "text": [
            "\n",
            "Epoch : 5, train loss : 16.8367919921875\n"
          ]
        },
        {
          "output_type": "stream",
          "name": "stderr",
          "text": [
            "\n"
          ]
        },
        {
          "output_type": "stream",
          "name": "stdout",
          "text": [
            "Epoch : 5, val loss : 16.195587158203125\n"
          ]
        },
        {
          "output_type": "stream",
          "name": "stderr",
          "text": [
            "100%|██████████| 34/34 [00:08<00:00,  3.89it/s]"
          ]
        },
        {
          "output_type": "stream",
          "name": "stdout",
          "text": [
            "\n",
            "Epoch : 6, train loss : 14.06284236907959\n"
          ]
        },
        {
          "output_type": "stream",
          "name": "stderr",
          "text": [
            "\n"
          ]
        },
        {
          "output_type": "stream",
          "name": "stdout",
          "text": [
            "Epoch : 6, val loss : 13.201038360595703\n"
          ]
        },
        {
          "output_type": "stream",
          "name": "stderr",
          "text": [
            "100%|██████████| 34/34 [00:08<00:00,  3.79it/s]"
          ]
        },
        {
          "output_type": "stream",
          "name": "stdout",
          "text": [
            "\n",
            "Epoch : 7, train loss : 11.195975303649902\n"
          ]
        },
        {
          "output_type": "stream",
          "name": "stderr",
          "text": [
            "\n"
          ]
        },
        {
          "output_type": "stream",
          "name": "stdout",
          "text": [
            "Epoch : 7, val loss : 13.0108060836792\n"
          ]
        },
        {
          "output_type": "stream",
          "name": "stderr",
          "text": [
            "100%|██████████| 34/34 [00:08<00:00,  3.84it/s]"
          ]
        },
        {
          "output_type": "stream",
          "name": "stdout",
          "text": [
            "\n",
            "Epoch : 8, train loss : 10.90644645690918\n"
          ]
        },
        {
          "output_type": "stream",
          "name": "stderr",
          "text": [
            "\n"
          ]
        },
        {
          "output_type": "stream",
          "name": "stdout",
          "text": [
            "Epoch : 8, val loss : 3.4134719371795654\n"
          ]
        },
        {
          "output_type": "stream",
          "name": "stderr",
          "text": [
            "100%|██████████| 34/34 [00:08<00:00,  3.82it/s]"
          ]
        },
        {
          "output_type": "stream",
          "name": "stdout",
          "text": [
            "\n",
            "Epoch : 9, train loss : 9.132003784179688\n"
          ]
        },
        {
          "output_type": "stream",
          "name": "stderr",
          "text": [
            "\n"
          ]
        },
        {
          "output_type": "stream",
          "name": "stdout",
          "text": [
            "Epoch : 9, val loss : 7.349693775177002\n"
          ]
        },
        {
          "output_type": "stream",
          "name": "stderr",
          "text": [
            "100%|██████████| 34/34 [00:08<00:00,  3.79it/s]"
          ]
        },
        {
          "output_type": "stream",
          "name": "stdout",
          "text": [
            "\n",
            "Epoch : 10, train loss : 9.721800804138184\n"
          ]
        },
        {
          "output_type": "stream",
          "name": "stderr",
          "text": [
            "\n"
          ]
        },
        {
          "output_type": "stream",
          "name": "stdout",
          "text": [
            "Epoch : 10, val loss : 14.533674240112305\n"
          ]
        },
        {
          "output_type": "stream",
          "name": "stderr",
          "text": [
            "100%|██████████| 34/34 [00:09<00:00,  3.75it/s]"
          ]
        },
        {
          "output_type": "stream",
          "name": "stdout",
          "text": [
            "\n",
            "Epoch : 11, train loss : 13.139936447143555\n"
          ]
        },
        {
          "output_type": "stream",
          "name": "stderr",
          "text": [
            "\n"
          ]
        },
        {
          "output_type": "stream",
          "name": "stdout",
          "text": [
            "Epoch : 11, val loss : 5.638243675231934\n"
          ]
        },
        {
          "output_type": "stream",
          "name": "stderr",
          "text": [
            "100%|██████████| 34/34 [00:08<00:00,  3.83it/s]"
          ]
        },
        {
          "output_type": "stream",
          "name": "stdout",
          "text": [
            "\n",
            "Epoch : 12, train loss : 15.872647285461426\n"
          ]
        },
        {
          "output_type": "stream",
          "name": "stderr",
          "text": [
            "\n"
          ]
        },
        {
          "output_type": "stream",
          "name": "stdout",
          "text": [
            "Epoch : 12, val loss : 19.71466827392578\n"
          ]
        },
        {
          "output_type": "stream",
          "name": "stderr",
          "text": [
            "100%|██████████| 34/34 [00:08<00:00,  3.85it/s]"
          ]
        },
        {
          "output_type": "stream",
          "name": "stdout",
          "text": [
            "\n",
            "Epoch : 13, train loss : 32.64326858520508\n"
          ]
        },
        {
          "output_type": "stream",
          "name": "stderr",
          "text": [
            "\n"
          ]
        },
        {
          "output_type": "stream",
          "name": "stdout",
          "text": [
            "Epoch : 13, val loss : 73.87152862548828\n"
          ]
        },
        {
          "output_type": "stream",
          "name": "stderr",
          "text": [
            "100%|██████████| 34/34 [00:08<00:00,  3.87it/s]"
          ]
        },
        {
          "output_type": "stream",
          "name": "stdout",
          "text": [
            "\n",
            "Epoch : 14, train loss : 37.809532165527344\n"
          ]
        },
        {
          "output_type": "stream",
          "name": "stderr",
          "text": [
            "\n"
          ]
        },
        {
          "output_type": "stream",
          "name": "stdout",
          "text": [
            "Epoch : 14, val loss : 28.892494201660156\n"
          ]
        },
        {
          "output_type": "stream",
          "name": "stderr",
          "text": [
            "100%|██████████| 34/34 [00:08<00:00,  3.85it/s]"
          ]
        },
        {
          "output_type": "stream",
          "name": "stdout",
          "text": [
            "\n",
            "Epoch : 15, train loss : 67.3951416015625\n"
          ]
        },
        {
          "output_type": "stream",
          "name": "stderr",
          "text": [
            "\n"
          ]
        },
        {
          "output_type": "stream",
          "name": "stdout",
          "text": [
            "Epoch : 15, val loss : 58.3505859375\n"
          ]
        },
        {
          "output_type": "stream",
          "name": "stderr",
          "text": [
            "100%|██████████| 34/34 [00:08<00:00,  3.81it/s]"
          ]
        },
        {
          "output_type": "stream",
          "name": "stdout",
          "text": [
            "\n",
            "Epoch : 16, train loss : 82.62986755371094\n"
          ]
        },
        {
          "output_type": "stream",
          "name": "stderr",
          "text": [
            "\n"
          ]
        },
        {
          "output_type": "stream",
          "name": "stdout",
          "text": [
            "Epoch : 16, val loss : 151.99832153320312\n"
          ]
        },
        {
          "output_type": "stream",
          "name": "stderr",
          "text": [
            "100%|██████████| 34/34 [00:08<00:00,  3.84it/s]"
          ]
        },
        {
          "output_type": "stream",
          "name": "stdout",
          "text": [
            "\n",
            "Epoch : 17, train loss : 75.37447357177734\n"
          ]
        },
        {
          "output_type": "stream",
          "name": "stderr",
          "text": [
            "\n"
          ]
        },
        {
          "output_type": "stream",
          "name": "stdout",
          "text": [
            "Epoch : 17, val loss : 69.885498046875\n"
          ]
        },
        {
          "output_type": "stream",
          "name": "stderr",
          "text": [
            "100%|██████████| 34/34 [00:08<00:00,  3.82it/s]"
          ]
        },
        {
          "output_type": "stream",
          "name": "stdout",
          "text": [
            "\n",
            "Epoch : 18, train loss : 141.04962158203125\n"
          ]
        },
        {
          "output_type": "stream",
          "name": "stderr",
          "text": [
            "\n"
          ]
        },
        {
          "output_type": "stream",
          "name": "stdout",
          "text": [
            "Epoch : 18, val loss : 249.5191192626953\n"
          ]
        },
        {
          "output_type": "stream",
          "name": "stderr",
          "text": [
            "100%|██████████| 34/34 [00:08<00:00,  3.81it/s]"
          ]
        },
        {
          "output_type": "stream",
          "name": "stdout",
          "text": [
            "\n",
            "Epoch : 19, train loss : 195.60887145996094\n"
          ]
        },
        {
          "output_type": "stream",
          "name": "stderr",
          "text": [
            "\n"
          ]
        },
        {
          "output_type": "stream",
          "name": "stdout",
          "text": [
            "Epoch : 19, val loss : 410.58978271484375\n"
          ]
        },
        {
          "output_type": "stream",
          "name": "stderr",
          "text": [
            "100%|██████████| 34/34 [00:08<00:00,  3.83it/s]"
          ]
        },
        {
          "output_type": "stream",
          "name": "stdout",
          "text": [
            "\n",
            "Epoch : 20, train loss : 352.20947265625\n"
          ]
        },
        {
          "output_type": "stream",
          "name": "stderr",
          "text": [
            "\n"
          ]
        },
        {
          "output_type": "stream",
          "name": "stdout",
          "text": [
            "Epoch : 20, val loss : 126.03019714355469\n"
          ]
        },
        {
          "output_type": "stream",
          "name": "stderr",
          "text": [
            "100%|██████████| 34/34 [00:09<00:00,  3.72it/s]"
          ]
        },
        {
          "output_type": "stream",
          "name": "stdout",
          "text": [
            "\n",
            "Epoch : 21, train loss : 514.92724609375\n"
          ]
        },
        {
          "output_type": "stream",
          "name": "stderr",
          "text": [
            "\n"
          ]
        },
        {
          "output_type": "stream",
          "name": "stdout",
          "text": [
            "Epoch : 21, val loss : 964.4716186523438\n"
          ]
        },
        {
          "output_type": "stream",
          "name": "stderr",
          "text": [
            "100%|██████████| 34/34 [00:08<00:00,  3.84it/s]"
          ]
        },
        {
          "output_type": "stream",
          "name": "stdout",
          "text": [
            "\n",
            "Epoch : 22, train loss : 601.8077392578125\n"
          ]
        },
        {
          "output_type": "stream",
          "name": "stderr",
          "text": [
            "\n"
          ]
        },
        {
          "output_type": "stream",
          "name": "stdout",
          "text": [
            "Epoch : 22, val loss : 959.6888427734375\n"
          ]
        },
        {
          "output_type": "stream",
          "name": "stderr",
          "text": [
            "100%|██████████| 34/34 [00:08<00:00,  3.84it/s]"
          ]
        },
        {
          "output_type": "stream",
          "name": "stdout",
          "text": [
            "\n",
            "Epoch : 23, train loss : 490.5875244140625\n"
          ]
        },
        {
          "output_type": "stream",
          "name": "stderr",
          "text": [
            "\n"
          ]
        },
        {
          "output_type": "stream",
          "name": "stdout",
          "text": [
            "Epoch : 23, val loss : 141.82131958007812\n"
          ]
        },
        {
          "output_type": "stream",
          "name": "stderr",
          "text": [
            "100%|██████████| 34/34 [00:08<00:00,  3.86it/s]"
          ]
        },
        {
          "output_type": "stream",
          "name": "stdout",
          "text": [
            "\n",
            "Epoch : 24, train loss : 225.33859252929688\n"
          ]
        },
        {
          "output_type": "stream",
          "name": "stderr",
          "text": [
            "\n"
          ]
        },
        {
          "output_type": "stream",
          "name": "stdout",
          "text": [
            "Epoch : 24, val loss : 424.9578857421875\n"
          ]
        },
        {
          "output_type": "stream",
          "name": "stderr",
          "text": [
            "100%|██████████| 34/34 [00:08<00:00,  3.79it/s]"
          ]
        },
        {
          "output_type": "stream",
          "name": "stdout",
          "text": [
            "\n",
            "Epoch : 25, train loss : 184.57667541503906\n"
          ]
        },
        {
          "output_type": "stream",
          "name": "stderr",
          "text": [
            "\n"
          ]
        },
        {
          "output_type": "stream",
          "name": "stdout",
          "text": [
            "Epoch : 25, val loss : 269.9775085449219\n"
          ]
        },
        {
          "output_type": "stream",
          "name": "stderr",
          "text": [
            "100%|██████████| 34/34 [00:08<00:00,  3.84it/s]"
          ]
        },
        {
          "output_type": "stream",
          "name": "stdout",
          "text": [
            "\n",
            "Epoch : 26, train loss : 172.78724670410156\n"
          ]
        },
        {
          "output_type": "stream",
          "name": "stderr",
          "text": [
            "\n"
          ]
        },
        {
          "output_type": "stream",
          "name": "stdout",
          "text": [
            "Epoch : 26, val loss : 74.99441528320312\n"
          ]
        },
        {
          "output_type": "stream",
          "name": "stderr",
          "text": [
            "100%|██████████| 34/34 [00:08<00:00,  3.82it/s]"
          ]
        },
        {
          "output_type": "stream",
          "name": "stdout",
          "text": [
            "\n",
            "Epoch : 27, train loss : 151.44241333007812\n"
          ]
        },
        {
          "output_type": "stream",
          "name": "stderr",
          "text": [
            "\n"
          ]
        },
        {
          "output_type": "stream",
          "name": "stdout",
          "text": [
            "Epoch : 27, val loss : 135.34861755371094\n"
          ]
        },
        {
          "output_type": "stream",
          "name": "stderr",
          "text": [
            "100%|██████████| 34/34 [00:08<00:00,  3.84it/s]"
          ]
        },
        {
          "output_type": "stream",
          "name": "stdout",
          "text": [
            "\n",
            "Epoch : 28, train loss : 111.23295593261719\n"
          ]
        },
        {
          "output_type": "stream",
          "name": "stderr",
          "text": [
            "\n"
          ]
        },
        {
          "output_type": "stream",
          "name": "stdout",
          "text": [
            "Epoch : 28, val loss : 53.38748550415039\n"
          ]
        },
        {
          "output_type": "stream",
          "name": "stderr",
          "text": [
            "100%|██████████| 34/34 [00:09<00:00,  3.72it/s]"
          ]
        },
        {
          "output_type": "stream",
          "name": "stdout",
          "text": [
            "\n",
            "Epoch : 29, train loss : 84.01261138916016\n"
          ]
        },
        {
          "output_type": "stream",
          "name": "stderr",
          "text": [
            "\n"
          ]
        },
        {
          "output_type": "stream",
          "name": "stdout",
          "text": [
            "Epoch : 29, val loss : 131.39523315429688\n"
          ]
        },
        {
          "output_type": "stream",
          "name": "stderr",
          "text": [
            "100%|██████████| 34/34 [00:09<00:00,  3.76it/s]"
          ]
        },
        {
          "output_type": "stream",
          "name": "stdout",
          "text": [
            "\n",
            "Epoch : 30, train loss : 83.58482360839844\n"
          ]
        },
        {
          "output_type": "stream",
          "name": "stderr",
          "text": [
            "\n"
          ]
        },
        {
          "output_type": "stream",
          "name": "stdout",
          "text": [
            "Epoch : 30, val loss : 53.749114990234375\n"
          ]
        },
        {
          "output_type": "stream",
          "name": "stderr",
          "text": [
            "100%|██████████| 34/34 [00:08<00:00,  3.83it/s]"
          ]
        },
        {
          "output_type": "stream",
          "name": "stdout",
          "text": [
            "\n",
            "Epoch : 31, train loss : 78.68254089355469\n"
          ]
        },
        {
          "output_type": "stream",
          "name": "stderr",
          "text": [
            "\n"
          ]
        },
        {
          "output_type": "stream",
          "name": "stdout",
          "text": [
            "Epoch : 31, val loss : 68.04647064208984\n"
          ]
        },
        {
          "output_type": "stream",
          "name": "stderr",
          "text": [
            "100%|██████████| 34/34 [00:08<00:00,  3.84it/s]"
          ]
        },
        {
          "output_type": "stream",
          "name": "stdout",
          "text": [
            "\n",
            "Epoch : 32, train loss : 76.49220275878906\n"
          ]
        },
        {
          "output_type": "stream",
          "name": "stderr",
          "text": [
            "\n"
          ]
        },
        {
          "output_type": "stream",
          "name": "stdout",
          "text": [
            "Epoch : 32, val loss : 93.31906127929688\n"
          ]
        },
        {
          "output_type": "stream",
          "name": "stderr",
          "text": [
            "100%|██████████| 34/34 [00:08<00:00,  3.83it/s]"
          ]
        },
        {
          "output_type": "stream",
          "name": "stdout",
          "text": [
            "\n",
            "Epoch : 33, train loss : 62.097774505615234\n"
          ]
        },
        {
          "output_type": "stream",
          "name": "stderr",
          "text": [
            "\n"
          ]
        },
        {
          "output_type": "stream",
          "name": "stdout",
          "text": [
            "Epoch : 33, val loss : 24.66403579711914\n"
          ]
        },
        {
          "output_type": "stream",
          "name": "stderr",
          "text": [
            "100%|██████████| 34/34 [00:08<00:00,  3.85it/s]"
          ]
        },
        {
          "output_type": "stream",
          "name": "stdout",
          "text": [
            "\n",
            "Epoch : 34, train loss : 45.7093391418457\n"
          ]
        },
        {
          "output_type": "stream",
          "name": "stderr",
          "text": [
            "\n"
          ]
        },
        {
          "output_type": "stream",
          "name": "stdout",
          "text": [
            "Epoch : 34, val loss : 24.789308547973633\n"
          ]
        },
        {
          "output_type": "stream",
          "name": "stderr",
          "text": [
            "100%|██████████| 34/34 [00:09<00:00,  3.77it/s]"
          ]
        },
        {
          "output_type": "stream",
          "name": "stdout",
          "text": [
            "\n",
            "Epoch : 35, train loss : 29.7122802734375\n"
          ]
        },
        {
          "output_type": "stream",
          "name": "stderr",
          "text": [
            "\n"
          ]
        },
        {
          "output_type": "stream",
          "name": "stdout",
          "text": [
            "Epoch : 35, val loss : 56.257755279541016\n"
          ]
        },
        {
          "output_type": "stream",
          "name": "stderr",
          "text": [
            "100%|██████████| 34/34 [00:08<00:00,  3.85it/s]"
          ]
        },
        {
          "output_type": "stream",
          "name": "stdout",
          "text": [
            "\n",
            "Epoch : 36, train loss : 23.948740005493164\n"
          ]
        },
        {
          "output_type": "stream",
          "name": "stderr",
          "text": [
            "\n"
          ]
        },
        {
          "output_type": "stream",
          "name": "stdout",
          "text": [
            "Epoch : 36, val loss : 10.984820365905762\n"
          ]
        },
        {
          "output_type": "stream",
          "name": "stderr",
          "text": [
            "100%|██████████| 34/34 [00:08<00:00,  3.85it/s]"
          ]
        },
        {
          "output_type": "stream",
          "name": "stdout",
          "text": [
            "\n",
            "Epoch : 37, train loss : 17.467618942260742\n"
          ]
        },
        {
          "output_type": "stream",
          "name": "stderr",
          "text": [
            "\n"
          ]
        },
        {
          "output_type": "stream",
          "name": "stdout",
          "text": [
            "Epoch : 37, val loss : 16.970067977905273\n"
          ]
        },
        {
          "output_type": "stream",
          "name": "stderr",
          "text": [
            "100%|██████████| 34/34 [00:08<00:00,  3.86it/s]"
          ]
        },
        {
          "output_type": "stream",
          "name": "stdout",
          "text": [
            "\n",
            "Epoch : 38, train loss : 16.094207763671875\n"
          ]
        },
        {
          "output_type": "stream",
          "name": "stderr",
          "text": [
            "\n"
          ]
        },
        {
          "output_type": "stream",
          "name": "stdout",
          "text": [
            "Epoch : 38, val loss : 20.241771697998047\n"
          ]
        },
        {
          "output_type": "stream",
          "name": "stderr",
          "text": [
            "100%|██████████| 34/34 [00:08<00:00,  3.81it/s]"
          ]
        },
        {
          "output_type": "stream",
          "name": "stdout",
          "text": [
            "\n",
            "Epoch : 39, train loss : 16.491718292236328\n"
          ]
        },
        {
          "output_type": "stream",
          "name": "stderr",
          "text": [
            "\n"
          ]
        },
        {
          "output_type": "stream",
          "name": "stdout",
          "text": [
            "Epoch : 39, val loss : 6.772701263427734\n"
          ]
        },
        {
          "output_type": "stream",
          "name": "stderr",
          "text": [
            "100%|██████████| 34/34 [00:09<00:00,  3.76it/s]"
          ]
        },
        {
          "output_type": "stream",
          "name": "stdout",
          "text": [
            "\n",
            "Epoch : 40, train loss : 8.003385543823242\n"
          ]
        },
        {
          "output_type": "stream",
          "name": "stderr",
          "text": [
            "\n"
          ]
        },
        {
          "output_type": "stream",
          "name": "stdout",
          "text": [
            "Epoch : 40, val loss : 4.743283271789551\n"
          ]
        },
        {
          "output_type": "stream",
          "name": "stderr",
          "text": [
            "100%|██████████| 34/34 [00:08<00:00,  3.84it/s]"
          ]
        },
        {
          "output_type": "stream",
          "name": "stdout",
          "text": [
            "\n",
            "Epoch : 41, train loss : 9.735715866088867\n"
          ]
        },
        {
          "output_type": "stream",
          "name": "stderr",
          "text": [
            "\n"
          ]
        },
        {
          "output_type": "stream",
          "name": "stdout",
          "text": [
            "Epoch : 41, val loss : 13.779399871826172\n"
          ]
        },
        {
          "output_type": "stream",
          "name": "stderr",
          "text": [
            "100%|██████████| 34/34 [00:08<00:00,  3.85it/s]"
          ]
        },
        {
          "output_type": "stream",
          "name": "stdout",
          "text": [
            "\n",
            "Epoch : 42, train loss : 6.494388103485107\n"
          ]
        },
        {
          "output_type": "stream",
          "name": "stderr",
          "text": [
            "\n"
          ]
        },
        {
          "output_type": "stream",
          "name": "stdout",
          "text": [
            "Epoch : 42, val loss : 4.458642959594727\n"
          ]
        },
        {
          "output_type": "stream",
          "name": "stderr",
          "text": [
            "100%|██████████| 34/34 [00:08<00:00,  3.85it/s]"
          ]
        },
        {
          "output_type": "stream",
          "name": "stdout",
          "text": [
            "\n",
            "Epoch : 43, train loss : 5.134119987487793\n"
          ]
        },
        {
          "output_type": "stream",
          "name": "stderr",
          "text": [
            "\n"
          ]
        },
        {
          "output_type": "stream",
          "name": "stdout",
          "text": [
            "Epoch : 43, val loss : 6.830612659454346\n"
          ]
        },
        {
          "output_type": "stream",
          "name": "stderr",
          "text": [
            "100%|██████████| 34/34 [00:08<00:00,  3.81it/s]"
          ]
        },
        {
          "output_type": "stream",
          "name": "stdout",
          "text": [
            "\n",
            "Epoch : 44, train loss : 5.812450885772705\n"
          ]
        },
        {
          "output_type": "stream",
          "name": "stderr",
          "text": [
            "\n"
          ]
        },
        {
          "output_type": "stream",
          "name": "stdout",
          "text": [
            "Epoch : 44, val loss : 16.721508026123047\n"
          ]
        },
        {
          "output_type": "stream",
          "name": "stderr",
          "text": [
            "100%|██████████| 34/34 [00:08<00:00,  3.84it/s]"
          ]
        },
        {
          "output_type": "stream",
          "name": "stdout",
          "text": [
            "\n",
            "Epoch : 45, train loss : 4.4134931564331055\n"
          ]
        },
        {
          "output_type": "stream",
          "name": "stderr",
          "text": [
            "\n"
          ]
        },
        {
          "output_type": "stream",
          "name": "stdout",
          "text": [
            "Epoch : 45, val loss : 7.984278678894043\n"
          ]
        },
        {
          "output_type": "stream",
          "name": "stderr",
          "text": [
            "100%|██████████| 34/34 [00:08<00:00,  3.84it/s]"
          ]
        },
        {
          "output_type": "stream",
          "name": "stdout",
          "text": [
            "\n",
            "Epoch : 46, train loss : 4.357517242431641\n"
          ]
        },
        {
          "output_type": "stream",
          "name": "stderr",
          "text": [
            "\n"
          ]
        },
        {
          "output_type": "stream",
          "name": "stdout",
          "text": [
            "Epoch : 46, val loss : 3.0432381629943848\n"
          ]
        },
        {
          "output_type": "stream",
          "name": "stderr",
          "text": [
            "100%|██████████| 34/34 [00:08<00:00,  3.85it/s]"
          ]
        },
        {
          "output_type": "stream",
          "name": "stdout",
          "text": [
            "\n",
            "Epoch : 47, train loss : 5.006443977355957\n"
          ]
        },
        {
          "output_type": "stream",
          "name": "stderr",
          "text": [
            "\n"
          ]
        },
        {
          "output_type": "stream",
          "name": "stdout",
          "text": [
            "Epoch : 47, val loss : 1.69646155834198\n"
          ]
        },
        {
          "output_type": "stream",
          "name": "stderr",
          "text": [
            "100%|██████████| 34/34 [00:08<00:00,  3.84it/s]"
          ]
        },
        {
          "output_type": "stream",
          "name": "stdout",
          "text": [
            "\n",
            "Epoch : 48, train loss : 4.440022945404053\n"
          ]
        },
        {
          "output_type": "stream",
          "name": "stderr",
          "text": [
            "\n"
          ]
        },
        {
          "output_type": "stream",
          "name": "stdout",
          "text": [
            "Epoch : 48, val loss : 1.9845654964447021\n"
          ]
        },
        {
          "output_type": "stream",
          "name": "stderr",
          "text": [
            "100%|██████████| 34/34 [00:09<00:00,  3.73it/s]"
          ]
        },
        {
          "output_type": "stream",
          "name": "stdout",
          "text": [
            "\n",
            "Epoch : 49, train loss : 2.99127459526062\n"
          ]
        },
        {
          "output_type": "stream",
          "name": "stderr",
          "text": [
            "\n"
          ]
        },
        {
          "output_type": "stream",
          "name": "stdout",
          "text": [
            "Epoch : 49, val loss : 3.7236952781677246\n"
          ]
        },
        {
          "output_type": "stream",
          "name": "stderr",
          "text": [
            "100%|██████████| 34/34 [00:08<00:00,  3.84it/s]"
          ]
        },
        {
          "output_type": "stream",
          "name": "stdout",
          "text": [
            "\n",
            "Epoch : 50, train loss : 2.0637171268463135\n"
          ]
        },
        {
          "output_type": "stream",
          "name": "stderr",
          "text": [
            "\n"
          ]
        },
        {
          "output_type": "stream",
          "name": "stdout",
          "text": [
            "Epoch : 50, val loss : 2.516557216644287\n",
            "the accuracy is 0.5462184873949579\n",
            "              precision    recall  f1-score   support\n",
            "\n",
            "      Adults       0.54      0.59      0.56        59\n",
            "        Kids       0.56      0.50      0.53        60\n",
            "\n",
            "    accuracy                           0.55       119\n",
            "   macro avg       0.55      0.55      0.55       119\n",
            "weighted avg       0.55      0.55      0.55       119\n",
            "\n",
            "the balanced accuracy is 0.5466101694915254\n"
          ]
        },
        {
          "output_type": "execute_result",
          "data": {
            "text/plain": [
              "0.5462184873949579"
            ]
          },
          "metadata": {},
          "execution_count": 8
        }
      ]
    },
    {
      "cell_type": "markdown",
      "source": [
        "#### **(2) Activation Functions [3 marks]**\n",
        "Plug in the following Activation Functions:\n",
        "\n",
        "1. ReLU\n",
        "2. SiLU\n",
        "3. Sigmoid\n",
        "4. Tanh\n",
        "5. ELU\n",
        "\n",
        "\n",
        "Your Network Architecture should be as follows:\n",
        "\n",
        "\n",
        "\n",
        "```\n",
        "Net(\n",
        "  (cnn_1): Sequential(\n",
        "    (0): Conv2d(3, 32, kernel_size=(3, 3), stride=(1, 1), padding=(1, 1))\n",
        "    (1): BatchNorm2d(32, eps=1e-05, momentum=0.1, affine=True, track_running_stats=True)\n",
        "    (2): MaxPool2d(kernel_size=2, stride=2, padding=0, dilation=1, ceil_mode=False)\n",
        "  )\n",
        "  (cnn_2): Sequential(\n",
        "    (0): Conv2d(32, 256, kernel_size=(3, 3), stride=(1, 1), padding=(1, 1))\n",
        "    (1): BatchNorm2d(256, eps=1e-05, momentum=0.1, affine=True, track_running_stats=True)\n",
        "    (2): MaxPool2d(kernel_size=2, stride=2, padding=0, dilation=1, ceil_mode=False)\n",
        "  )\n",
        "  (cnn_3): Sequential(\n",
        "    (0): Conv2d(256, 512, kernel_size=(3, 3), stride=(1, 1), padding=(1, 1))\n",
        "    (1): BatchNorm2d(512, eps=1e-05, momentum=0.1, affine=True, track_running_stats=True)\n",
        "  )\n",
        "  (cnn_4): Sequential(\n",
        "    (0): Conv2d(512, 256, kernel_size=(3, 3), stride=(1, 1), padding=(1, 1))\n",
        "    (1): BatchNorm2d(256, eps=1e-05, momentum=0.1, affine=True, track_running_stats=True)\n",
        "  )\n",
        "  (cnn_5): Sequential(\n",
        "    (0): Conv2d(256, 128, kernel_size=(3, 3), stride=(1, 1), padding=(1, 1))\n",
        "    (1): BatchNorm2d(128, eps=1e-05, momentum=0.1, affine=True, track_running_stats=True)\n",
        "  )\n",
        "  (cnn_6): Sequential(\n",
        "    (0): Conv2d(128, 64, kernel_size=(3, 3), stride=(1, 1), padding=(1, 1))\n",
        "    (1): BatchNorm2d(64, eps=1e-05, momentum=0.1, affine=True, track_running_stats=True)\n",
        "    (2): MaxPool2d(kernel_size=2, stride=2, padding=0, dilation=1, ceil_mode=False)\n",
        "  )\n",
        "  (fully_1): Sequential(\n",
        "    (0): Dropout(p=0.5, inplace=False)\n",
        "    (1): Linear(in_features=50176, out_features=4096, bias=True)\n",
        "    (2): YOUR ACTIVATION FUNCTION COMES HERE\n",
        "  )\n",
        "  (fully_2): Sequential(\n",
        "    (0): Dropout(p=0.5, inplace=False)\n",
        "    (1): Linear(in_features=4096, out_features=4096, bias=True)\n",
        "    (2): YOUR ACTIVATION FUNCTION COMES HERE\n",
        "  )\n",
        "  (fully_3): Sequential(\n",
        "    (0): Dropout(p=0.5, inplace=False)\n",
        "    (1): Linear(in_features=4096, out_features=1000, bias=True)\n",
        "    (2): YOUR ACTIVATION FUNCTION COMES HERE\n",
        "  )\n",
        "  (fully_4): Sequential(\n",
        "    (0): Linear(in_features=1000, out_features=1, bias=True)\n",
        "  )\n",
        ")\n",
        "```\n",
        "\n",
        "\n",
        "\n",
        "\n",
        "\n",
        "\n"
      ],
      "metadata": {
        "id": "ZKzCpxD6S36j"
      }
    },
    {
      "cell_type": "code",
      "source": [
        "'''\n",
        "Build the Network Architecture: (keep in mind the activation functions)\n",
        "Try it out for ReLU, SiLU, Sigmoid, Tanh, ELU individually\n",
        "'''\n",
        "from torch.nn.modules.conv import ConvTranspose2d, Conv2d\n",
        "from torch.nn import ReLU\n",
        "class Net(Module):   \n",
        "    def __init__(self):\n",
        "        super(Net, self).__init__()\n",
        "        '''\n",
        "        Write the 6 CNNs and 4 fully connected CNNs here\n",
        "        '''\n",
        "        #ENTER CODE HERE\n",
        "        self.cnn_layers = Sequential(\n",
        "            # Defining a 2D convolution layer\n",
        "            Conv2d(3, 32 , kernel_size=3, stride=1, padding=1),\n",
        "            BatchNorm2d(32),\n",
        "            MaxPool2d(kernel_size=2, stride=2),\n",
        "\n",
        "            Conv2d(32, 256, kernel_size=3, stride=1, padding=1),\n",
        "            BatchNorm2d(256),\n",
        "            MaxPool2d(kernel_size=2, stride=2),\n",
        "\n",
        "            Conv2d(256, 512, kernel_size=3, stride=1, padding=1),\n",
        "            BatchNorm2d(512),\n",
        "\n",
        "            Conv2d(512, 256, kernel_size=3, stride=1, padding=1),\n",
        "            BatchNorm2d(256),\n",
        "\n",
        "            Conv2d(256, 128, kernel_size=3, stride=1, padding=1),\n",
        "            BatchNorm2d(128),\n",
        "\n",
        "            Conv2d(128, 64, kernel_size=3, stride=1, padding=1),\n",
        "            BatchNorm2d(64),\n",
        "            MaxPool2d(kernel_size=2, stride=2)\n",
        "\n",
        "        )\n",
        "        self.linear_layers = Sequential(\n",
        "            Dropout(),\n",
        "            Linear(50176, 4096),\n",
        "            ReLU(),\n",
        "\n",
        "            Dropout(),\n",
        "            Linear(4096, 4096),\n",
        "            ReLU(),\n",
        "\n",
        "            Dropout(),\n",
        "            Linear(4096, 1000),\n",
        "            ReLU(),\n",
        "\n",
        "            Dropout(),\n",
        "            Linear(1000, 1),\n",
        "\n",
        "        )\n",
        "    def forward(self, x):\n",
        "        '''\n",
        "        Define the forward pass : \n",
        "        '''\n",
        "        #ENTER CODE HERE\n",
        "        x = self.cnn_layers(x)\n",
        "        x = x.view(x.size(0), -1)\n",
        "        x = self.linear_layers(x)\n",
        "        return x\n",
        "'''\n",
        "DO NOT ALTER THE FOLLOWING CODE\n",
        "'''\n",
        "model = Net()\n",
        "optimizer = Adam(model.parameters(), lr=0.07)\n",
        "criterion = CrossEntropyLoss()\n",
        "if torch.cuda.is_available():\n",
        "    model = model.cuda()\n",
        "    criterion = criterion.cuda()\n",
        "print(model)\n",
        "trained_model = calc_loss(model, n_epochs) #train the model\n",
        "calc_accuracy(trained_model) # report the accuracy "
      ],
      "metadata": {
        "id": "jj4MyahLHVmJ",
        "colab": {
          "base_uri": "https://localhost:8080/"
        },
        "outputId": "5b4239f8-e955-4809-8a85-f97d91d5f712"
      },
      "execution_count": null,
      "outputs": [
        {
          "output_type": "stream",
          "name": "stdout",
          "text": [
            "Net(\n",
            "  (cnn_layers): Sequential(\n",
            "    (0): Conv2d(3, 32, kernel_size=(3, 3), stride=(1, 1), padding=(1, 1))\n",
            "    (1): BatchNorm2d(32, eps=1e-05, momentum=0.1, affine=True, track_running_stats=True)\n",
            "    (2): MaxPool2d(kernel_size=2, stride=2, padding=0, dilation=1, ceil_mode=False)\n",
            "    (3): Conv2d(32, 256, kernel_size=(3, 3), stride=(1, 1), padding=(1, 1))\n",
            "    (4): BatchNorm2d(256, eps=1e-05, momentum=0.1, affine=True, track_running_stats=True)\n",
            "    (5): MaxPool2d(kernel_size=2, stride=2, padding=0, dilation=1, ceil_mode=False)\n",
            "    (6): Conv2d(256, 512, kernel_size=(3, 3), stride=(1, 1), padding=(1, 1))\n",
            "    (7): BatchNorm2d(512, eps=1e-05, momentum=0.1, affine=True, track_running_stats=True)\n",
            "    (8): Conv2d(512, 256, kernel_size=(3, 3), stride=(1, 1), padding=(1, 1))\n",
            "    (9): BatchNorm2d(256, eps=1e-05, momentum=0.1, affine=True, track_running_stats=True)\n",
            "    (10): Conv2d(256, 128, kernel_size=(3, 3), stride=(1, 1), padding=(1, 1))\n",
            "    (11): BatchNorm2d(128, eps=1e-05, momentum=0.1, affine=True, track_running_stats=True)\n",
            "    (12): Conv2d(128, 64, kernel_size=(3, 3), stride=(1, 1), padding=(1, 1))\n",
            "    (13): BatchNorm2d(64, eps=1e-05, momentum=0.1, affine=True, track_running_stats=True)\n",
            "    (14): MaxPool2d(kernel_size=2, stride=2, padding=0, dilation=1, ceil_mode=False)\n",
            "  )\n",
            "  (linear_layers): Sequential(\n",
            "    (0): Dropout(p=0.5, inplace=False)\n",
            "    (1): Linear(in_features=50176, out_features=4096, bias=True)\n",
            "    (2): ReLU()\n",
            "    (3): Dropout(p=0.5, inplace=False)\n",
            "    (4): Linear(in_features=4096, out_features=4096, bias=True)\n",
            "    (5): ReLU()\n",
            "    (6): Dropout(p=0.5, inplace=False)\n",
            "    (7): Linear(in_features=4096, out_features=1000, bias=True)\n",
            "    (8): ReLU()\n",
            "    (9): Dropout(p=0.5, inplace=False)\n",
            "    (10): Linear(in_features=1000, out_features=1, bias=True)\n",
            "  )\n",
            ")\n"
          ]
        },
        {
          "output_type": "stream",
          "name": "stderr",
          "text": [
            "100%|██████████| 34/34 [00:09<00:00,  3.68it/s]"
          ]
        },
        {
          "output_type": "stream",
          "name": "stdout",
          "text": [
            "\n",
            "Epoch : 1, train loss : 2.601146697998047\n"
          ]
        },
        {
          "output_type": "stream",
          "name": "stderr",
          "text": [
            "\n"
          ]
        },
        {
          "output_type": "stream",
          "name": "stdout",
          "text": [
            "Epoch : 1, val loss : 0.9441830515861511\n"
          ]
        },
        {
          "output_type": "stream",
          "name": "stderr",
          "text": [
            "100%|██████████| 34/34 [00:09<00:00,  3.48it/s]"
          ]
        },
        {
          "output_type": "stream",
          "name": "stdout",
          "text": [
            "\n",
            "Epoch : 2, train loss : 0.9859794974327087\n"
          ]
        },
        {
          "output_type": "stream",
          "name": "stderr",
          "text": [
            "\n"
          ]
        },
        {
          "output_type": "stream",
          "name": "stdout",
          "text": [
            "Epoch : 2, val loss : 1.0688544511795044\n"
          ]
        },
        {
          "output_type": "stream",
          "name": "stderr",
          "text": [
            "100%|██████████| 34/34 [00:09<00:00,  3.72it/s]"
          ]
        },
        {
          "output_type": "stream",
          "name": "stdout",
          "text": [
            "\n",
            "Epoch : 3, train loss : 0.770379900932312\n"
          ]
        },
        {
          "output_type": "stream",
          "name": "stderr",
          "text": [
            "\n"
          ]
        },
        {
          "output_type": "stream",
          "name": "stdout",
          "text": [
            "Epoch : 3, val loss : 0.6494972705841064\n"
          ]
        },
        {
          "output_type": "stream",
          "name": "stderr",
          "text": [
            "100%|██████████| 34/34 [00:09<00:00,  3.71it/s]"
          ]
        },
        {
          "output_type": "stream",
          "name": "stdout",
          "text": [
            "\n",
            "Epoch : 4, train loss : 0.8474104404449463\n"
          ]
        },
        {
          "output_type": "stream",
          "name": "stderr",
          "text": [
            "\n"
          ]
        },
        {
          "output_type": "stream",
          "name": "stdout",
          "text": [
            "Epoch : 4, val loss : 0.9062288403511047\n"
          ]
        },
        {
          "output_type": "stream",
          "name": "stderr",
          "text": [
            "100%|██████████| 34/34 [00:09<00:00,  3.73it/s]"
          ]
        },
        {
          "output_type": "stream",
          "name": "stdout",
          "text": [
            "\n",
            "Epoch : 5, train loss : 0.7247031927108765\n"
          ]
        },
        {
          "output_type": "stream",
          "name": "stderr",
          "text": [
            "\n"
          ]
        },
        {
          "output_type": "stream",
          "name": "stdout",
          "text": [
            "Epoch : 5, val loss : 0.7699189186096191\n"
          ]
        },
        {
          "output_type": "stream",
          "name": "stderr",
          "text": [
            "100%|██████████| 34/34 [00:09<00:00,  3.55it/s]"
          ]
        },
        {
          "output_type": "stream",
          "name": "stdout",
          "text": [
            "\n",
            "Epoch : 6, train loss : 0.7085171341896057\n"
          ]
        },
        {
          "output_type": "stream",
          "name": "stderr",
          "text": [
            "\n"
          ]
        },
        {
          "output_type": "stream",
          "name": "stdout",
          "text": [
            "Epoch : 6, val loss : 0.7824817895889282\n"
          ]
        },
        {
          "output_type": "stream",
          "name": "stderr",
          "text": [
            "100%|██████████| 34/34 [00:09<00:00,  3.75it/s]"
          ]
        },
        {
          "output_type": "stream",
          "name": "stdout",
          "text": [
            "\n",
            "Epoch : 7, train loss : 0.6766236424446106\n"
          ]
        },
        {
          "output_type": "stream",
          "name": "stderr",
          "text": [
            "\n"
          ]
        },
        {
          "output_type": "stream",
          "name": "stdout",
          "text": [
            "Epoch : 7, val loss : 0.5488598346710205\n"
          ]
        },
        {
          "output_type": "stream",
          "name": "stderr",
          "text": [
            "100%|██████████| 34/34 [00:08<00:00,  3.79it/s]"
          ]
        },
        {
          "output_type": "stream",
          "name": "stdout",
          "text": [
            "\n",
            "Epoch : 8, train loss : 0.7006441354751587\n"
          ]
        },
        {
          "output_type": "stream",
          "name": "stderr",
          "text": [
            "\n"
          ]
        },
        {
          "output_type": "stream",
          "name": "stdout",
          "text": [
            "Epoch : 8, val loss : 0.8590806722640991\n"
          ]
        },
        {
          "output_type": "stream",
          "name": "stderr",
          "text": [
            "100%|██████████| 34/34 [00:09<00:00,  3.76it/s]"
          ]
        },
        {
          "output_type": "stream",
          "name": "stdout",
          "text": [
            "\n",
            "Epoch : 9, train loss : 0.7574368715286255\n"
          ]
        },
        {
          "output_type": "stream",
          "name": "stderr",
          "text": [
            "\n"
          ]
        },
        {
          "output_type": "stream",
          "name": "stdout",
          "text": [
            "Epoch : 9, val loss : 0.7979271411895752\n"
          ]
        },
        {
          "output_type": "stream",
          "name": "stderr",
          "text": [
            "100%|██████████| 34/34 [00:09<00:00,  3.74it/s]"
          ]
        },
        {
          "output_type": "stream",
          "name": "stdout",
          "text": [
            "\n",
            "Epoch : 10, train loss : 0.6126728057861328\n"
          ]
        },
        {
          "output_type": "stream",
          "name": "stderr",
          "text": [
            "\n"
          ]
        },
        {
          "output_type": "stream",
          "name": "stdout",
          "text": [
            "Epoch : 10, val loss : 0.45291170477867126\n"
          ]
        },
        {
          "output_type": "stream",
          "name": "stderr",
          "text": [
            "100%|██████████| 34/34 [00:09<00:00,  3.66it/s]"
          ]
        },
        {
          "output_type": "stream",
          "name": "stdout",
          "text": [
            "\n",
            "Epoch : 11, train loss : 0.6620667576789856\n"
          ]
        },
        {
          "output_type": "stream",
          "name": "stderr",
          "text": [
            "\n"
          ]
        },
        {
          "output_type": "stream",
          "name": "stdout",
          "text": [
            "Epoch : 11, val loss : 0.7670709490776062\n"
          ]
        },
        {
          "output_type": "stream",
          "name": "stderr",
          "text": [
            "100%|██████████| 34/34 [00:09<00:00,  3.55it/s]"
          ]
        },
        {
          "output_type": "stream",
          "name": "stdout",
          "text": [
            "\n",
            "Epoch : 12, train loss : 0.662987470626831\n"
          ]
        },
        {
          "output_type": "stream",
          "name": "stderr",
          "text": [
            "\n"
          ]
        },
        {
          "output_type": "stream",
          "name": "stdout",
          "text": [
            "Epoch : 12, val loss : 0.5434718728065491\n"
          ]
        },
        {
          "output_type": "stream",
          "name": "stderr",
          "text": [
            "100%|██████████| 34/34 [00:09<00:00,  3.76it/s]"
          ]
        },
        {
          "output_type": "stream",
          "name": "stdout",
          "text": [
            "\n",
            "Epoch : 13, train loss : 0.6791802048683167\n"
          ]
        },
        {
          "output_type": "stream",
          "name": "stderr",
          "text": [
            "\n"
          ]
        },
        {
          "output_type": "stream",
          "name": "stdout",
          "text": [
            "Epoch : 13, val loss : 0.7134965658187866\n"
          ]
        },
        {
          "output_type": "stream",
          "name": "stderr",
          "text": [
            "100%|██████████| 34/34 [00:09<00:00,  3.74it/s]"
          ]
        },
        {
          "output_type": "stream",
          "name": "stdout",
          "text": [
            "\n",
            "Epoch : 14, train loss : 0.6948124766349792\n"
          ]
        },
        {
          "output_type": "stream",
          "name": "stderr",
          "text": [
            "\n"
          ]
        },
        {
          "output_type": "stream",
          "name": "stdout",
          "text": [
            "Epoch : 14, val loss : 0.40356671810150146\n"
          ]
        },
        {
          "output_type": "stream",
          "name": "stderr",
          "text": [
            "100%|██████████| 34/34 [00:09<00:00,  3.69it/s]"
          ]
        },
        {
          "output_type": "stream",
          "name": "stdout",
          "text": [
            "\n",
            "Epoch : 15, train loss : 0.5640061497688293\n"
          ]
        },
        {
          "output_type": "stream",
          "name": "stderr",
          "text": [
            "\n"
          ]
        },
        {
          "output_type": "stream",
          "name": "stdout",
          "text": [
            "Epoch : 15, val loss : 0.8307348489761353\n"
          ]
        },
        {
          "output_type": "stream",
          "name": "stderr",
          "text": [
            "100%|██████████| 34/34 [00:09<00:00,  3.74it/s]"
          ]
        },
        {
          "output_type": "stream",
          "name": "stdout",
          "text": [
            "\n",
            "Epoch : 16, train loss : 0.6815824508666992\n"
          ]
        },
        {
          "output_type": "stream",
          "name": "stderr",
          "text": [
            "\n"
          ]
        },
        {
          "output_type": "stream",
          "name": "stdout",
          "text": [
            "Epoch : 16, val loss : 0.6117281317710876\n"
          ]
        },
        {
          "output_type": "stream",
          "name": "stderr",
          "text": [
            "100%|██████████| 34/34 [00:09<00:00,  3.75it/s]"
          ]
        },
        {
          "output_type": "stream",
          "name": "stdout",
          "text": [
            "\n",
            "Epoch : 17, train loss : 0.5763456225395203\n"
          ]
        },
        {
          "output_type": "stream",
          "name": "stderr",
          "text": [
            "\n"
          ]
        },
        {
          "output_type": "stream",
          "name": "stdout",
          "text": [
            "Epoch : 17, val loss : 0.6908228397369385\n"
          ]
        },
        {
          "output_type": "stream",
          "name": "stderr",
          "text": [
            "100%|██████████| 34/34 [00:09<00:00,  3.75it/s]"
          ]
        },
        {
          "output_type": "stream",
          "name": "stdout",
          "text": [
            "\n",
            "Epoch : 18, train loss : 0.7501770853996277\n"
          ]
        },
        {
          "output_type": "stream",
          "name": "stderr",
          "text": [
            "\n"
          ]
        },
        {
          "output_type": "stream",
          "name": "stdout",
          "text": [
            "Epoch : 18, val loss : 0.5508629679679871\n"
          ]
        },
        {
          "output_type": "stream",
          "name": "stderr",
          "text": [
            "100%|██████████| 34/34 [00:09<00:00,  3.51it/s]"
          ]
        },
        {
          "output_type": "stream",
          "name": "stdout",
          "text": [
            "\n",
            "Epoch : 19, train loss : 0.6151017546653748\n"
          ]
        },
        {
          "output_type": "stream",
          "name": "stderr",
          "text": [
            "\n"
          ]
        },
        {
          "output_type": "stream",
          "name": "stdout",
          "text": [
            "Epoch : 19, val loss : 0.3602146804332733\n"
          ]
        },
        {
          "output_type": "stream",
          "name": "stderr",
          "text": [
            "100%|██████████| 34/34 [00:09<00:00,  3.77it/s]"
          ]
        },
        {
          "output_type": "stream",
          "name": "stdout",
          "text": [
            "\n",
            "Epoch : 20, train loss : 0.5213842391967773\n"
          ]
        },
        {
          "output_type": "stream",
          "name": "stderr",
          "text": [
            "\n"
          ]
        },
        {
          "output_type": "stream",
          "name": "stdout",
          "text": [
            "Epoch : 20, val loss : 0.4907999634742737\n"
          ]
        },
        {
          "output_type": "stream",
          "name": "stderr",
          "text": [
            "100%|██████████| 34/34 [00:09<00:00,  3.77it/s]"
          ]
        },
        {
          "output_type": "stream",
          "name": "stdout",
          "text": [
            "\n",
            "Epoch : 21, train loss : 0.47823527455329895\n"
          ]
        },
        {
          "output_type": "stream",
          "name": "stderr",
          "text": [
            "\n"
          ]
        },
        {
          "output_type": "stream",
          "name": "stdout",
          "text": [
            "Epoch : 21, val loss : 0.4105992913246155\n"
          ]
        },
        {
          "output_type": "stream",
          "name": "stderr",
          "text": [
            "100%|██████████| 34/34 [00:09<00:00,  3.74it/s]"
          ]
        },
        {
          "output_type": "stream",
          "name": "stdout",
          "text": [
            "\n",
            "Epoch : 22, train loss : 0.4687531292438507\n"
          ]
        },
        {
          "output_type": "stream",
          "name": "stderr",
          "text": [
            "\n"
          ]
        },
        {
          "output_type": "stream",
          "name": "stdout",
          "text": [
            "Epoch : 22, val loss : 0.25634849071502686\n"
          ]
        },
        {
          "output_type": "stream",
          "name": "stderr",
          "text": [
            "100%|██████████| 34/34 [00:09<00:00,  3.56it/s]"
          ]
        },
        {
          "output_type": "stream",
          "name": "stdout",
          "text": [
            "\n",
            "Epoch : 23, train loss : 0.4217933118343353\n"
          ]
        },
        {
          "output_type": "stream",
          "name": "stderr",
          "text": [
            "\n"
          ]
        },
        {
          "output_type": "stream",
          "name": "stdout",
          "text": [
            "Epoch : 23, val loss : 0.17373967170715332\n"
          ]
        },
        {
          "output_type": "stream",
          "name": "stderr",
          "text": [
            "100%|██████████| 34/34 [00:09<00:00,  3.74it/s]"
          ]
        },
        {
          "output_type": "stream",
          "name": "stdout",
          "text": [
            "\n",
            "Epoch : 24, train loss : 0.543631374835968\n"
          ]
        },
        {
          "output_type": "stream",
          "name": "stderr",
          "text": [
            "\n"
          ]
        },
        {
          "output_type": "stream",
          "name": "stdout",
          "text": [
            "Epoch : 24, val loss : 0.2747892141342163\n"
          ]
        },
        {
          "output_type": "stream",
          "name": "stderr",
          "text": [
            "100%|██████████| 34/34 [00:09<00:00,  3.74it/s]"
          ]
        },
        {
          "output_type": "stream",
          "name": "stdout",
          "text": [
            "\n",
            "Epoch : 25, train loss : 0.3998242914676666\n"
          ]
        },
        {
          "output_type": "stream",
          "name": "stderr",
          "text": [
            "\n"
          ]
        },
        {
          "output_type": "stream",
          "name": "stdout",
          "text": [
            "Epoch : 25, val loss : 0.22855357825756073\n"
          ]
        },
        {
          "output_type": "stream",
          "name": "stderr",
          "text": [
            "100%|██████████| 34/34 [00:09<00:00,  3.76it/s]"
          ]
        },
        {
          "output_type": "stream",
          "name": "stdout",
          "text": [
            "\n",
            "Epoch : 26, train loss : 0.3407652676105499\n"
          ]
        },
        {
          "output_type": "stream",
          "name": "stderr",
          "text": [
            "\n"
          ]
        },
        {
          "output_type": "stream",
          "name": "stdout",
          "text": [
            "Epoch : 26, val loss : 0.32642582058906555\n"
          ]
        },
        {
          "output_type": "stream",
          "name": "stderr",
          "text": [
            "100%|██████████| 34/34 [00:09<00:00,  3.55it/s]"
          ]
        },
        {
          "output_type": "stream",
          "name": "stdout",
          "text": [
            "\n",
            "Epoch : 27, train loss : 0.2909618616104126\n"
          ]
        },
        {
          "output_type": "stream",
          "name": "stderr",
          "text": [
            "\n"
          ]
        },
        {
          "output_type": "stream",
          "name": "stdout",
          "text": [
            "Epoch : 27, val loss : 1.2940930128097534\n"
          ]
        },
        {
          "output_type": "stream",
          "name": "stderr",
          "text": [
            "100%|██████████| 34/34 [00:09<00:00,  3.73it/s]"
          ]
        },
        {
          "output_type": "stream",
          "name": "stdout",
          "text": [
            "\n",
            "Epoch : 28, train loss : 0.5877411961555481\n"
          ]
        },
        {
          "output_type": "stream",
          "name": "stderr",
          "text": [
            "\n"
          ]
        },
        {
          "output_type": "stream",
          "name": "stdout",
          "text": [
            "Epoch : 28, val loss : 0.4277879595756531\n"
          ]
        },
        {
          "output_type": "stream",
          "name": "stderr",
          "text": [
            "100%|██████████| 34/34 [00:09<00:00,  3.73it/s]"
          ]
        },
        {
          "output_type": "stream",
          "name": "stdout",
          "text": [
            "\n",
            "Epoch : 29, train loss : 0.5585528612136841\n"
          ]
        },
        {
          "output_type": "stream",
          "name": "stderr",
          "text": [
            "\n"
          ]
        },
        {
          "output_type": "stream",
          "name": "stdout",
          "text": [
            "Epoch : 29, val loss : 0.15846596658229828\n"
          ]
        },
        {
          "output_type": "stream",
          "name": "stderr",
          "text": [
            "100%|██████████| 34/34 [00:09<00:00,  3.76it/s]"
          ]
        },
        {
          "output_type": "stream",
          "name": "stdout",
          "text": [
            "\n",
            "Epoch : 30, train loss : 0.30311185121536255\n"
          ]
        },
        {
          "output_type": "stream",
          "name": "stderr",
          "text": [
            "\n"
          ]
        },
        {
          "output_type": "stream",
          "name": "stdout",
          "text": [
            "Epoch : 30, val loss : 0.14579375088214874\n"
          ]
        },
        {
          "output_type": "stream",
          "name": "stderr",
          "text": [
            "100%|██████████| 34/34 [00:10<00:00,  3.18it/s]"
          ]
        },
        {
          "output_type": "stream",
          "name": "stdout",
          "text": [
            "\n",
            "Epoch : 31, train loss : 0.18393106758594513\n"
          ]
        },
        {
          "output_type": "stream",
          "name": "stderr",
          "text": [
            "\n"
          ]
        },
        {
          "output_type": "stream",
          "name": "stdout",
          "text": [
            "Epoch : 31, val loss : 0.22965165972709656\n"
          ]
        },
        {
          "output_type": "stream",
          "name": "stderr",
          "text": [
            "100%|██████████| 34/34 [00:09<00:00,  3.77it/s]"
          ]
        },
        {
          "output_type": "stream",
          "name": "stdout",
          "text": [
            "\n",
            "Epoch : 32, train loss : 0.3248629570007324\n"
          ]
        },
        {
          "output_type": "stream",
          "name": "stderr",
          "text": [
            "\n"
          ]
        },
        {
          "output_type": "stream",
          "name": "stdout",
          "text": [
            "Epoch : 32, val loss : 0.13681654632091522\n"
          ]
        },
        {
          "output_type": "stream",
          "name": "stderr",
          "text": [
            "100%|██████████| 34/34 [00:09<00:00,  3.76it/s]"
          ]
        },
        {
          "output_type": "stream",
          "name": "stdout",
          "text": [
            "\n",
            "Epoch : 33, train loss : 0.3013860881328583\n"
          ]
        },
        {
          "output_type": "stream",
          "name": "stderr",
          "text": [
            "\n"
          ]
        },
        {
          "output_type": "stream",
          "name": "stdout",
          "text": [
            "Epoch : 33, val loss : 0.11545252799987793\n"
          ]
        },
        {
          "output_type": "stream",
          "name": "stderr",
          "text": [
            "100%|██████████| 34/34 [00:09<00:00,  3.75it/s]"
          ]
        },
        {
          "output_type": "stream",
          "name": "stdout",
          "text": [
            "\n",
            "Epoch : 34, train loss : 0.2964346408843994\n"
          ]
        },
        {
          "output_type": "stream",
          "name": "stderr",
          "text": [
            "\n"
          ]
        },
        {
          "output_type": "stream",
          "name": "stdout",
          "text": [
            "Epoch : 34, val loss : 0.5107163786888123\n"
          ]
        },
        {
          "output_type": "stream",
          "name": "stderr",
          "text": [
            "100%|██████████| 34/34 [00:09<00:00,  3.75it/s]"
          ]
        },
        {
          "output_type": "stream",
          "name": "stdout",
          "text": [
            "\n",
            "Epoch : 35, train loss : 0.33940377831459045\n"
          ]
        },
        {
          "output_type": "stream",
          "name": "stderr",
          "text": [
            "\n"
          ]
        },
        {
          "output_type": "stream",
          "name": "stdout",
          "text": [
            "Epoch : 35, val loss : 0.2875449061393738\n"
          ]
        },
        {
          "output_type": "stream",
          "name": "stderr",
          "text": [
            "100%|██████████| 34/34 [00:09<00:00,  3.56it/s]"
          ]
        },
        {
          "output_type": "stream",
          "name": "stdout",
          "text": [
            "\n",
            "Epoch : 36, train loss : 0.265414834022522\n"
          ]
        },
        {
          "output_type": "stream",
          "name": "stderr",
          "text": [
            "\n"
          ]
        },
        {
          "output_type": "stream",
          "name": "stdout",
          "text": [
            "Epoch : 36, val loss : 0.3129769563674927\n"
          ]
        },
        {
          "output_type": "stream",
          "name": "stderr",
          "text": [
            "100%|██████████| 34/34 [00:08<00:00,  3.80it/s]"
          ]
        },
        {
          "output_type": "stream",
          "name": "stdout",
          "text": [
            "\n",
            "Epoch : 37, train loss : 0.29867562651634216\n"
          ]
        },
        {
          "output_type": "stream",
          "name": "stderr",
          "text": [
            "\n"
          ]
        },
        {
          "output_type": "stream",
          "name": "stdout",
          "text": [
            "Epoch : 37, val loss : 0.2472170889377594\n"
          ]
        },
        {
          "output_type": "stream",
          "name": "stderr",
          "text": [
            "100%|██████████| 34/34 [00:09<00:00,  3.77it/s]"
          ]
        },
        {
          "output_type": "stream",
          "name": "stdout",
          "text": [
            "\n",
            "Epoch : 38, train loss : 0.23700949549674988\n"
          ]
        },
        {
          "output_type": "stream",
          "name": "stderr",
          "text": [
            "\n"
          ]
        },
        {
          "output_type": "stream",
          "name": "stdout",
          "text": [
            "Epoch : 38, val loss : 0.22072234749794006\n"
          ]
        },
        {
          "output_type": "stream",
          "name": "stderr",
          "text": [
            "100%|██████████| 34/34 [00:09<00:00,  3.77it/s]"
          ]
        },
        {
          "output_type": "stream",
          "name": "stdout",
          "text": [
            "\n",
            "Epoch : 39, train loss : 0.2323935627937317\n"
          ]
        },
        {
          "output_type": "stream",
          "name": "stderr",
          "text": [
            "\n"
          ]
        },
        {
          "output_type": "stream",
          "name": "stdout",
          "text": [
            "Epoch : 39, val loss : 0.45534491539001465\n"
          ]
        },
        {
          "output_type": "stream",
          "name": "stderr",
          "text": [
            "100%|██████████| 34/34 [00:09<00:00,  3.66it/s]"
          ]
        },
        {
          "output_type": "stream",
          "name": "stdout",
          "text": [
            "\n",
            "Epoch : 40, train loss : 0.2999589741230011\n"
          ]
        },
        {
          "output_type": "stream",
          "name": "stderr",
          "text": [
            "\n"
          ]
        },
        {
          "output_type": "stream",
          "name": "stdout",
          "text": [
            "Epoch : 40, val loss : 0.2074231058359146\n"
          ]
        },
        {
          "output_type": "stream",
          "name": "stderr",
          "text": [
            "100%|██████████| 34/34 [00:08<00:00,  3.79it/s]"
          ]
        },
        {
          "output_type": "stream",
          "name": "stdout",
          "text": [
            "\n",
            "Epoch : 41, train loss : 0.28452208638191223\n"
          ]
        },
        {
          "output_type": "stream",
          "name": "stderr",
          "text": [
            "\n"
          ]
        },
        {
          "output_type": "stream",
          "name": "stdout",
          "text": [
            "Epoch : 41, val loss : 0.2139875888824463\n"
          ]
        },
        {
          "output_type": "stream",
          "name": "stderr",
          "text": [
            "100%|██████████| 34/34 [00:09<00:00,  3.77it/s]"
          ]
        },
        {
          "output_type": "stream",
          "name": "stdout",
          "text": [
            "\n",
            "Epoch : 42, train loss : 0.5950632095336914\n"
          ]
        },
        {
          "output_type": "stream",
          "name": "stderr",
          "text": [
            "\n"
          ]
        },
        {
          "output_type": "stream",
          "name": "stdout",
          "text": [
            "Epoch : 42, val loss : 0.32466137409210205\n"
          ]
        },
        {
          "output_type": "stream",
          "name": "stderr",
          "text": [
            "100%|██████████| 34/34 [00:09<00:00,  3.76it/s]"
          ]
        },
        {
          "output_type": "stream",
          "name": "stdout",
          "text": [
            "\n",
            "Epoch : 43, train loss : 0.4222673773765564\n"
          ]
        },
        {
          "output_type": "stream",
          "name": "stderr",
          "text": [
            "\n"
          ]
        },
        {
          "output_type": "stream",
          "name": "stdout",
          "text": [
            "Epoch : 43, val loss : 0.24946612119674683\n"
          ]
        },
        {
          "output_type": "stream",
          "name": "stderr",
          "text": [
            "100%|██████████| 34/34 [00:09<00:00,  3.76it/s]"
          ]
        },
        {
          "output_type": "stream",
          "name": "stdout",
          "text": [
            "\n",
            "Epoch : 44, train loss : 0.35008910298347473\n"
          ]
        },
        {
          "output_type": "stream",
          "name": "stderr",
          "text": [
            "\n"
          ]
        },
        {
          "output_type": "stream",
          "name": "stdout",
          "text": [
            "Epoch : 44, val loss : 0.423076868057251\n"
          ]
        },
        {
          "output_type": "stream",
          "name": "stderr",
          "text": [
            "100%|██████████| 34/34 [00:09<00:00,  3.49it/s]"
          ]
        },
        {
          "output_type": "stream",
          "name": "stdout",
          "text": [
            "\n",
            "Epoch : 45, train loss : 0.24009285867214203\n"
          ]
        },
        {
          "output_type": "stream",
          "name": "stderr",
          "text": [
            "\n"
          ]
        },
        {
          "output_type": "stream",
          "name": "stdout",
          "text": [
            "Epoch : 45, val loss : 0.18409302830696106\n"
          ]
        },
        {
          "output_type": "stream",
          "name": "stderr",
          "text": [
            "100%|██████████| 34/34 [00:09<00:00,  3.74it/s]"
          ]
        },
        {
          "output_type": "stream",
          "name": "stdout",
          "text": [
            "\n",
            "Epoch : 46, train loss : 0.13287371397018433\n"
          ]
        },
        {
          "output_type": "stream",
          "name": "stderr",
          "text": [
            "\n"
          ]
        },
        {
          "output_type": "stream",
          "name": "stdout",
          "text": [
            "Epoch : 46, val loss : 0.13221126794815063\n"
          ]
        },
        {
          "output_type": "stream",
          "name": "stderr",
          "text": [
            "100%|██████████| 34/34 [00:09<00:00,  3.74it/s]"
          ]
        },
        {
          "output_type": "stream",
          "name": "stdout",
          "text": [
            "\n",
            "Epoch : 47, train loss : 0.3971901834011078\n"
          ]
        },
        {
          "output_type": "stream",
          "name": "stderr",
          "text": [
            "\n"
          ]
        },
        {
          "output_type": "stream",
          "name": "stdout",
          "text": [
            "Epoch : 47, val loss : 0.8606558442115784\n"
          ]
        },
        {
          "output_type": "stream",
          "name": "stderr",
          "text": [
            "100%|██████████| 34/34 [00:09<00:00,  3.76it/s]"
          ]
        },
        {
          "output_type": "stream",
          "name": "stdout",
          "text": [
            "\n",
            "Epoch : 48, train loss : 0.5130791664123535\n"
          ]
        },
        {
          "output_type": "stream",
          "name": "stderr",
          "text": [
            "\n"
          ]
        },
        {
          "output_type": "stream",
          "name": "stdout",
          "text": [
            "Epoch : 48, val loss : 0.42473268508911133\n"
          ]
        },
        {
          "output_type": "stream",
          "name": "stderr",
          "text": [
            "100%|██████████| 34/34 [00:09<00:00,  3.57it/s]"
          ]
        },
        {
          "output_type": "stream",
          "name": "stdout",
          "text": [
            "\n",
            "Epoch : 49, train loss : 0.6464115977287292\n"
          ]
        },
        {
          "output_type": "stream",
          "name": "stderr",
          "text": [
            "\n"
          ]
        },
        {
          "output_type": "stream",
          "name": "stdout",
          "text": [
            "Epoch : 49, val loss : 0.6688838601112366\n"
          ]
        },
        {
          "output_type": "stream",
          "name": "stderr",
          "text": [
            "100%|██████████| 34/34 [00:09<00:00,  3.70it/s]"
          ]
        },
        {
          "output_type": "stream",
          "name": "stdout",
          "text": [
            "\n",
            "Epoch : 50, train loss : 0.5938149094581604\n"
          ]
        },
        {
          "output_type": "stream",
          "name": "stderr",
          "text": [
            "\n"
          ]
        },
        {
          "output_type": "stream",
          "name": "stdout",
          "text": [
            "Epoch : 50, val loss : 0.6012362837791443\n",
            "the accuracy is 0.5462184873949579\n",
            "              precision    recall  f1-score   support\n",
            "\n",
            "      Adults       0.53      0.81      0.64        59\n",
            "        Kids       0.61      0.28      0.39        60\n",
            "\n",
            "    accuracy                           0.55       119\n",
            "   macro avg       0.57      0.55      0.51       119\n",
            "weighted avg       0.57      0.55      0.51       119\n",
            "\n",
            "the balanced accuracy is 0.5484463276836158\n"
          ]
        },
        {
          "output_type": "execute_result",
          "data": {
            "text/plain": [
              "0.5462184873949579"
            ]
          },
          "metadata": {},
          "execution_count": 11
        }
      ]
    },
    {
      "cell_type": "markdown",
      "source": [
        "1. **Plot the accuracies for each activation function**"
      ],
      "metadata": {
        "id": "LKVUdZYcHUj6"
      }
    },
    {
      "cell_type": "code",
      "source": [
        "#ENTER CODE HERE"
      ],
      "metadata": {
        "id": "UauXwoIOGpDX"
      },
      "execution_count": null,
      "outputs": []
    },
    {
      "cell_type": "markdown",
      "source": [
        "2. **Which function performs better? Justify.**"
      ],
      "metadata": {
        "id": "YWcpsMiaGuA3"
      }
    },
    {
      "cell_type": "markdown",
      "source": [
        "ANSWER-"
      ],
      "metadata": {
        "id": "lssf9e6VGx4y"
      }
    },
    {
      "cell_type": "markdown",
      "source": [
        "### **Part II: Custom Activation Functions**"
      ],
      "metadata": {
        "id": "RVVuDDGHY9pM"
      }
    },
    {
      "cell_type": "markdown",
      "source": [
        "#### **(1) Implement any activation function of your OWN and DO NOT USE any predefined PyTorch Activation Functions [ 3 marks]**\n",
        "\n",
        "\n",
        "\n",
        "```\n",
        "class custom_activation_function(nn.Module):\n",
        "    '''\n",
        "    Implementation of custom activation function\n",
        "    '''\n",
        "    def __init__(self, in_features, alpha = None):\n",
        "        '''\n",
        "        Initialization\n",
        "        '''\n",
        "\n",
        "    def forward(self, x):\n",
        "        '''\n",
        "        Forward pass of the function.\n",
        "        '''\n",
        "\n",
        "af = custom_activation_function(<some_parameters>)\n",
        "x = torch.randn(256) # random tensor\n",
        "x = af(x)\n",
        "```\n",
        "\n",
        "Your Network Architecture should be as follows:\n",
        "\n",
        "```\n",
        "Net(\n",
        "  (cnn_1): Sequential(\n",
        "    (0): Conv2d(3, 32, kernel_size=(3, 3), stride=(1, 1), padding=(1, 1))\n",
        "    (1): BatchNorm2d(32, eps=1e-05, momentum=0.1, affine=True, track_running_stats=True)\n",
        "    (2): MaxPool2d(kernel_size=2, stride=2, padding=0, dilation=1, ceil_mode=False)\n",
        "  )\n",
        "  (cnn_2): Sequential(\n",
        "    (0): Conv2d(32, 256, kernel_size=(3, 3), stride=(1, 1), padding=(1, 1))\n",
        "    (1): BatchNorm2d(256, eps=1e-05, momentum=0.1, affine=True, track_running_stats=True)\n",
        "    (2): MaxPool2d(kernel_size=2, stride=2, padding=0, dilation=1, ceil_mode=False)\n",
        "  )\n",
        "  (cnn_3): Sequential(\n",
        "    (0): Conv2d(256, 512, kernel_size=(3, 3), stride=(1, 1), padding=(1, 1))\n",
        "    (1): BatchNorm2d(512, eps=1e-05, momentum=0.1, affine=True, track_running_stats=True)\n",
        "  )\n",
        "  (cnn_4): Sequential(\n",
        "    (0): Conv2d(512, 256, kernel_size=(3, 3), stride=(1, 1), padding=(1, 1))\n",
        "    (1): BatchNorm2d(256, eps=1e-05, momentum=0.1, affine=True, track_running_stats=True)\n",
        "  )\n",
        "  (cnn_5): Sequential(\n",
        "    (0): Conv2d(256, 128, kernel_size=(3, 3), stride=(1, 1), padding=(1, 1))\n",
        "    (1): BatchNorm2d(128, eps=1e-05, momentum=0.1, affine=True, track_running_stats=True)\n",
        "  )\n",
        "  (cnn_6): Sequential(\n",
        "    (0): Conv2d(128, 64, kernel_size=(3, 3), stride=(1, 1), padding=(1, 1))\n",
        "    (1): BatchNorm2d(64, eps=1e-05, momentum=0.1, affine=True, track_running_stats=True)\n",
        "    (2): MaxPool2d(kernel_size=2, stride=2, padding=0, dilation=1, ceil_mode=False)\n",
        "  )\n",
        "  (fully_1): Sequential(\n",
        "    (0): Dropout(p=0.5, inplace=False)\n",
        "    (1): Linear(in_features=50176, out_features=4096, bias=True)\n",
        "  )\n",
        "  (fully_2): Sequential(\n",
        "    (0): Dropout(p=0.5, inplace=False)\n",
        "    (1): Linear(in_features=4096, out_features=4096, bias=True)\n",
        "  )\n",
        "  (fully_3): Sequential(\n",
        "    (0): Dropout(p=0.5, inplace=False)\n",
        "    (1): Linear(in_features=4096, out_features=1000, bias=True)\n",
        "  )\n",
        "  (fully_4): Sequential(\n",
        "    (0): Linear(in_features=1000, out_features=1, bias=True)\n",
        "  )\n",
        "  (a1): custom_activation_function()\n",
        "  (a2): custom_activation_function()\n",
        "  (a3): custom_activation_function()\n",
        ")\n",
        "```\n",
        "\n",
        "Hint: Here, we are asking you to apply Custom activation functions to the Fully Connected Layers in the forward pass of the Network\n"
      ],
      "metadata": {
        "id": "NeDYpeRrZQTR"
      }
    },
    {
      "cell_type": "markdown",
      "source": [
        "#### **(2) Implement any COMPLEX activation function of your OWN and DO NOT USE any predefined PyTorch Activation Functions {CMPUT 566 only} [ 5 marks]**\n",
        "\n",
        "Implement any one of the following activation functions \n",
        "\n",
        "1. [Soft exponential](https://arxiv.org/pdf/1602.01321.pdf)\n",
        "2. [BReLU](https://arxiv.org/pdf/1709.04054.pdf)\n",
        "\n",
        "\n",
        "\n"
      ],
      "metadata": {
        "id": "XubsMK_ub14Z"
      }
    },
    {
      "cell_type": "markdown",
      "source": [
        "### **Part III: ResNet [6 marks]**"
      ],
      "metadata": {
        "id": "4xsjUeBsc2Hv"
      }
    },
    {
      "cell_type": "markdown",
      "source": [
        "#### **(1) Implement the following **pretrained ResNet variants****\n"
      ],
      "metadata": {
        "id": "1omY6kHYtOLS"
      }
    },
    {
      "cell_type": "markdown",
      "source": [
        "1. ResNet18\n",
        "2. ResNet50\n",
        "3. ResNet152\n",
        "\n",
        "You can refer the ResNet documentation in the RESOURCES tab.\n"
      ],
      "metadata": {
        "id": "I9ca6aVRc3pn"
      }
    },
    {
      "cell_type": "code",
      "source": [
        "model_resnet_variant = <assign this to a pretrained resnet model> #ENTER CODE HERE\n",
        "\n",
        "'''\n",
        "DO NOT ALTER THE FOLLOWING CODE\n",
        "'''\n",
        "#freeze all the model parameters\n",
        "for params in model_resnet_variant.parameters():\n",
        "  params.requires_grad_ = False\n",
        "'''\n",
        "DO NOT ALTER THE ABOVE CODE\n",
        "'''\n",
        "\n",
        "nr_filters = <input features of last fully connected layer> #ENTER CODE HERE\n",
        "model_resnet_variant.fc = nn.Linear(nr_filters, 1)\n",
        "model_resnet_variant = model_resnet_variant.to(device)\n",
        "\n",
        "trained_model = calc_loss(model_resnet_variant, n_epochs)\n",
        "calc_accuracy(trained_model)"
      ],
      "metadata": {
        "id": "VjgoW0YLeGRL"
      },
      "execution_count": null,
      "outputs": []
    },
    {
      "cell_type": "markdown",
      "source": [
        "#### **(2) Which ResNet performs better? Justify.**"
      ],
      "metadata": {
        "id": "iOC0Y1_Vfm1c"
      }
    },
    {
      "cell_type": "markdown",
      "source": [
        "Your answer -  "
      ],
      "metadata": {
        "id": "n43mpbtFtjkz"
      }
    },
    {
      "cell_type": "markdown",
      "source": [
        "### **Part IV: Class Imbalance and Sampling [ 5 marks]**\n",
        "\n"
      ],
      "metadata": {
        "id": "XCpWy4e5f--g"
      }
    },
    {
      "cell_type": "markdown",
      "source": [
        "\n",
        "**Consider the imbalanced data and run the following CNN with and without Weighted Random Sampler**\n",
        "\n",
        "\n",
        "\n",
        "```\n",
        "class Net(Module):   \n",
        "    def __init__(self):\n",
        "        super(Net, self).__init__()\n",
        "\n",
        "        self.cnn_layers = Sequential(\n",
        "            # Defining a 2D convolution layer\n",
        "            Conv2d(NUM_CHANNELS, IMAGE_SIZE, kernel_size=3, stride=1, padding=1),\n",
        "            BatchNorm2d(IMAGE_SIZE),\n",
        "            ReLU(inplace=True),\n",
        "            MaxPool2d(kernel_size=2, stride=2),\n",
        "            # Defining another 2D convolution layer\n",
        "            Conv2d(32, 32, kernel_size=3, stride=1, padding=1),\n",
        "            BatchNorm2d(32),\n",
        "            ReLU(inplace=True),\n",
        "            MaxPool2d(kernel_size=2, stride=2),\n",
        "        )\n",
        "\n",
        "        self.linear_layers = Sequential(\n",
        "            Linear(100352, 1)\n",
        "        )\n",
        "\n",
        "    # Defining the forward pass    \n",
        "    def forward(self, x):\n",
        "        x = self.cnn_layers(x)\n",
        "        x = x.view(x.size(0), -1)\n",
        "        x = self.linear_layers(x)\n",
        "        #x = x.view(x.size(0), -1)\n",
        "\n",
        "        return x\n",
        "        \n",
        "```\n",
        "\n",
        "\n",
        "**NOTE:** \n",
        "1. Change the main and test paths to the imbalanced dataset.\n",
        "2. Sampler can be loaded to data loader as follows:\n",
        "\n",
        "\n",
        "\n",
        "```\n",
        "sampler_W = <ENTER CODE for weighted sampler>\n",
        "\n",
        "train_dataloader = DataLoader(train_dataset, batch_size=BATCH_SIZE, num_workers=2, sampler = sampler_W)\n",
        "valid_dataloader = DataLoader(valid_dataset, batch_size=BATCH_SIZE, num_workers=2)\n",
        "```\n",
        "\n",
        "**Has the accuracy gone up or down? Why? Explain your answer.**\n"
      ],
      "metadata": {
        "id": "ZCB0OYSXhXUz"
      }
    },
    {
      "cell_type": "markdown",
      "source": [
        "### **Part V: Data Augmentation{CMPUT 466 only}[ 5 marks]**\n",
        "1. **What is Data Augmentation? How does it help in combating the data imbalance issue?**"
      ],
      "metadata": {
        "id": "WXm6p29gj7nM"
      }
    },
    {
      "cell_type": "markdown",
      "source": [
        "Answer - "
      ],
      "metadata": {
        "id": "4PQupIdUL4o4"
      }
    },
    {
      "cell_type": "markdown",
      "source": [
        "2. **Rotate** the image clockwise by **30** degrees"
      ],
      "metadata": {
        "id": "lBdbqaKjk1kR"
      }
    },
    {
      "cell_type": "code",
      "source": [
        "# importing an image from the imbalanced dataset\n",
        "image_path = <import any random image from the dataset> #ENTER THE PATH\n",
        "'''\n",
        "DO NOT ALTER THE FOLLOWING CODE\n",
        "HOWEVER, IF YOU WANT TO ANOTHER LIBRARY, FEEL FREE TO USE IT TOO.\n",
        "JUST MAKE SURE TO DO THE AUGMENTATION AND THEN SHOW THE AUGMENTED IMAGE\n",
        "'''\n",
        "\n",
        "import imageio\n",
        "import imgaug as ia\n",
        "import imgaug.augmenters as iaa\n",
        "%matplotlib inline\n",
        "image = imageio.imread(image_path)\n",
        "ia.imshow(image)\n",
        "\n",
        "# Your code to rotate the image then show it. Use ia.imshow(image) if using imgaug library\n",
        "\n",
        "##"
      ],
      "metadata": {
        "id": "ODF4E9N_kYdt"
      },
      "execution_count": null,
      "outputs": []
    },
    {
      "cell_type": "markdown",
      "source": [
        "3. Add **Gaussian noise** to the image. \n"
      ],
      "metadata": {
        "id": "xGFE8aaZMDgt"
      }
    },
    {
      "cell_type": "code",
      "source": [
        "## YOUR CODE TO ADD GAUSSIAN NOISE TO THE IMAGE"
      ],
      "metadata": {
        "id": "YnMix3LcMD8v"
      },
      "execution_count": null,
      "outputs": []
    },
    {
      "cell_type": "markdown",
      "source": [
        "4. Convolve the image by applying [**Sobel Edge Detection**](https://www.projectrhea.org/rhea/index.php/An_Implementation_of_Sobel_Edge_Detection) filter. You can apply either X or Y directional kernel and use any library.\n"
      ],
      "metadata": {
        "id": "yQjrg-bhMsDv"
      }
    },
    {
      "cell_type": "code",
      "source": [
        "## YOUR CODE FOR SOBEL EDGE DETECTION"
      ],
      "metadata": {
        "id": "7MDBSMTDMtE9"
      },
      "execution_count": null,
      "outputs": []
    },
    {
      "cell_type": "markdown",
      "source": [
        "5. Think of **two cases** where augmentations might **not be useful**. For instance, in digits classification, applying a flipping augmentation for the digit 2 might be of no use. "
      ],
      "metadata": {
        "id": "B9zrClogMuNP"
      }
    },
    {
      "cell_type": "markdown",
      "source": [
        "Answer - "
      ],
      "metadata": {
        "id": "V7Z38ukmMziX"
      }
    },
    {
      "cell_type": "code",
      "source": [],
      "metadata": {
        "id": "xh_zkS-3M0zq"
      },
      "execution_count": null,
      "outputs": []
    }
  ]
}